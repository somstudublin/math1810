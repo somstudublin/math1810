{
 "cells": [
  {
   "cell_type": "code",
   "execution_count": 1,
   "metadata": {},
   "outputs": [
    {
     "name": "stdout",
     "output_type": "stream",
     "text": [
      "\n",
      "Setup complete\n",
      "\n"
     ]
    }
   ],
   "source": [
    "%matplotlib inline\n",
    "import matplotlib.pyplot as plt\n",
    "%load_ext autoreload\n",
    "%autoreload 2\n",
    "\n",
    "#Output from every line\n",
    "from IPython.core.interactiveshell import InteractiveShell\n",
    "InteractiveShell.ast_node_interactivity = \"all\"\n",
    "# 'all', 'none', 'last' and 'last_expr' (default)\n",
    "\n",
    "import valres as vr\n",
    "\n",
    "import numpy as np\n",
    "from scipy.integrate import odeint\n",
    "import pylab\n",
    "\n",
    "vr.getrid() # BEFORE ps\n",
    "\n",
    "# Set pslen notebook parameters to vr.ps\n",
    "pslen=100\n",
    "#ps=vr.getco(pslen)[-2:]\n",
    "vr.getco(pslen)\n",
    "\n",
    "from ipdb import set_trace\n",
    "\n",
    "\n",
    "print('\\nSetup complete\\n')\n",
    " "
   ]
  }
 ],
 "metadata": {
  "kernelspec": {
   "display_name": "Python 3 (ipykernel)",
   "language": "python",
   "name": "python3"
  },
  "language_info": {
   "codemirror_mode": {
    "name": "ipython",
    "version": 3
   },
   "file_extension": ".py",
   "mimetype": "text/x-python",
   "name": "python",
   "nbconvert_exporter": "python",
   "pygments_lexer": "ipython3",
   "version": "3.10.12"
  }
 },
 "nbformat": 4,
 "nbformat_minor": 1
}
