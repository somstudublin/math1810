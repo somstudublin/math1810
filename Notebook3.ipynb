{
 "cells": [
  {
   "cell_type": "markdown",
   "metadata": {},
   "source": [
    "# TU873/874/1\n",
    "## MATH1810\n",
    "## Introduction to Scientific Python\n",
    "\n",
    "## Notebook3\n",
    "\n",
    "## Strings\n",
    "\n",
    "This notebook follows Section 2.3 of Hill."
   ]
  },
  {
   "cell_type": "code",
   "execution_count": 1,
   "metadata": {},
   "outputs": [
    {
     "name": "stdout",
     "output_type": "stream",
     "text": [
      "\n",
      "Setup complete\n"
     ]
    }
   ],
   "source": [
    "%run ./.setup.ipynb"
   ]
  },
  {
   "cell_type": "markdown",
   "metadata": {},
   "source": [
    "## Defining a string object\n",
    "\n",
    "A string in Python is an object of type `str`.\n",
    "\n",
    "Strings are immutable objects made from an ordered sequence of immutable characters - meaning that they cannot be changed once created. Recall that a character is a symbol and is treated as a shape without meaning by the interpreter. A character may also be an *escape sequences* used for formatting.\n",
    "\n",
    "To distinguish between a characters and the anything they would otherwise be used to represent, it is necessary to use quotes. Either single or double quotes perform this task. We will tend to use single quotes (except for docstrings), but either is fine.\n",
    "\n",
    "** Note that the single quote is  $\\quad$ ' $\\quad$   NOT $\\quad$ ` **\n"
   ]
  },
  {
   "cell_type": "code",
   "execution_count": null,
   "metadata": {},
   "outputs": [],
   "source": [
    "myvar='12345'\n",
    "print('myvar is bound to an object of type')\n",
    "type(myvar)\n",
    "myvar=12345\n",
    "print('myvar is bound to an object of type')\n",
    "type(myvar)"
   ]
  },
  {
   "cell_type": "markdown",
   "metadata": {},
   "source": [
    "### Basic string manipulation\n",
    "1. Concatenation: strings can be joined either with the + operator or by placing them next to each other on the same line\n",
    "* Continuation: a long string can be broken up over multiple lines by using \\ or parentheses\n",
    "* Repetition: strings are repeated using *\n",
    "* Conversion: strings may be converted from other types using `str`\n",
    "* Empty string: ''\n",
    "* Compound manipulation: You can combine string manipulations using parentheses"
   ]
  },
  {
   "cell_type": "code",
   "execution_count": null,
   "metadata": {},
   "outputs": [],
   "source": [
    "'abc'+'def'\n",
    "('This is a string' \n",
    " ' over two lines')\n",
    "'abc'*10\n",
    "str(1234)\n",
    "''\n",
    "('abc'+'def')*5"
   ]
  },
  {
   "cell_type": "markdown",
   "metadata": {},
   "source": [
    "## Escape sequences\n",
    "\n",
    "It is often necessary to include special characters in strings called escape sequences. These are indicated by a backslash \\\n",
    "\n",
    "|  Escape sequence  |  Meaning      |\n",
    "|----|--------|\n",
    "|`\\’`| Single quote (’)|\n",
    "|`\\\"` |Double quote (\")|\n",
    "|`\\n` |Linefeed (LF) (newline)|\n",
    "|`\\r` |Carriage return (CR)|\n",
    "|`\\t` |Horizontal tab|\n",
    "|`\\b` |Backspace|\n",
    "|`\\\\` |The backslash character itself|\n",
    "|`\\u`, `\\U`, `\\N{}` |Unicode character |\n",
    "|`\\x` |Hex-encoded byte|\n",
    "\n",
    "It is possible to treat an entire string as literal so that backslashes etc. are not interpreted as escape sequences using `r` as a prefix."
   ]
  },
  {
   "cell_type": "code",
   "execution_count": null,
   "metadata": {},
   "outputs": [],
   "source": [
    "string = 'He said:\\n \"Hello world.\"'\n",
    "print(string)\n",
    "string = 'Hello\\nworld.\\n'\n",
    "print(string)\n",
    "string=r'He said, \"Hello world.\"'\n",
    "print(string)"
   ]
  },
  {
   "cell_type": "markdown",
   "metadata": {},
   "source": [
    "### Docstrings\n",
    "\n",
    "It is good practice to include a description of what your code does at the start of a program. This explains to users what your program does and other useful information and may run over multiple lines. To create a docstring triple quotes are used at the start and again at the end. It generates a string, including newlines."
   ]
  },
  {
   "cell_type": "code",
   "execution_count": null,
   "metadata": {},
   "outputs": [],
   "source": [
    "\"\"\"This is\n",
    "an example of\n",
    "a docstring\"\"\""
   ]
  },
  {
   "cell_type": "markdown",
   "metadata": {},
   "source": [
    "## Unicode\n",
    "\n",
    "Characters in Python 3 are part of a set of a standard called Unicode. These include the usual ones plus a very large set of others you can find at http://unicode.org/charts/\n",
    "\n",
    "To use them from a standard keyboard, you need to reference them by their hexadecimal code from these charts.\n",
    "\n",
    "* Given a string of length one, the function `ord` will return an integer representing the Unicode code point of the character. \n",
    "* The inverse function of `ord` is `chr` ie. if the integer obtained from `ord` is passed to `chr` the original character is retrieved.\n",
    "\n"
   ]
  },
  {
   "cell_type": "code",
   "execution_count": null,
   "metadata": {},
   "outputs": [],
   "source": [
    "string='I have \\u20AC100, that\\'s about \\u00A388.5'\n",
    "print(string)\n",
    "string='\\u2211\\u03B1=12'\n",
    "print(string)\n",
    "\n",
    "print('The integer representation of the character G is',ord('G'))\n",
    "print('The character corresponding to the integer 72 is',chr(72))"
   ]
  },
  {
   "cell_type": "markdown",
   "metadata": {},
   "source": [
    "## Indexing and slicing strings\n",
    "\n",
    "It is often useful to pick parts out of a string and Python is *very* powerful in this respect. To access parts of a string the square brackets `[]` are used with the string name. **This is an example of where syntax is important, using the wrong brackets will cause an error.**\n",
    "\n",
    "* From the start of the string using a non-negative integer **starting from 0** (this is common to sequences in general in Python).\n",
    "* From the end of the string using a negative integer **starting from -1**\n",
    "* Choosing a value outside the string causes an error."
   ]
  },
  {
   "cell_type": "code",
   "execution_count": null,
   "metadata": {},
   "outputs": [],
   "source": [
    "string='Hello world'\n",
    "print(string[0])\n",
    "print(string[-1])\n",
    "print(string[11])\n"
   ]
  },
  {
   "cell_type": "markdown",
   "metadata": {},
   "source": [
    "Slicing a string, `string[i:j]`, produces a substring from index `i` to index `j` going left to right but **excluding the second (j)**. If the first index\n",
    "is omitted, 0 is assumed; if the second is omitted, the string is sliced to its end. Slicing a string outside its bounds does not raise an error. It is worth noting that with this convention `string[i:i+j]` will output exactly `j` characters.\n"
   ]
  },
  {
   "cell_type": "code",
   "execution_count": null,
   "metadata": {},
   "outputs": [],
   "source": [
    "string='Hello world'\n",
    "print(string[1:5])\n",
    "print(string[6:-1])"
   ]
  },
  {
   "cell_type": "markdown",
   "metadata": {},
   "source": [
    "A very useful operator in dealing with strings is the `in` operator which allows you to text if there is a matching part in a string."
   ]
  },
  {
   "cell_type": "code",
   "execution_count": null,
   "metadata": {},
   "outputs": [],
   "source": [
    "string='Hello world'\n",
    "substring='ello'\n",
    "statement=substring+' is in '+string+' : '+str(substring in string)\n",
    "print(statement)\n",
    "substring='bye'\n",
    "statement=substring+' is in '+string+' : '+str(substring in string)\n",
    "print(statement)\n"
   ]
  },
  {
   "cell_type": "markdown",
   "metadata": {},
   "source": [
    "While not very useful, it is also possible to take every `n`th character from a string by providing a third number. This is called the *stride* of the slice. Using a negative value for `n` selects characters in the reverse direction, so to reverse the full string `string[::-1]` can be used."
   ]
  },
  {
   "cell_type": "code",
   "execution_count": null,
   "metadata": {},
   "outputs": [],
   "source": [
    "string='Hello world'\n",
    "print(string[::-1])"
   ]
  },
  {
   "cell_type": "markdown",
   "metadata": {},
   "source": [
    "### String length\n",
    "\n",
    "It is very useful to have access to the length of a string. This can be managed using the built-in function `len()`\n"
   ]
  },
  {
   "cell_type": "code",
   "execution_count": 4,
   "metadata": {},
   "outputs": [
    {
     "name": "stdout",
     "output_type": "stream",
     "text": [
      "String length 11 : Hello world\n"
     ]
    }
   ],
   "source": [
    "string='Hello world'\n",
    "mylen=len(string)\n",
    "print('String length',mylen,':', string[:mylen])"
   ]
  },
  {
   "cell_type": "markdown",
   "metadata": {
    "collapsed": true
   },
   "source": [
    "## String methods\n",
    "\n",
    "Note that because strings are immutable, whenever you do anything with a strings resulting in a new string, you are creating a new object, *not* changing an existing one. In the table below you will find many useful *methods* for string objects.\n",
    "\n",
    "|  Method<br/>[] optional|  Description     |\n",
    "|----|--------|\n",
    "|center(width[,fillchar]) |Return the string centered in a string with total number of characters width [padded using fillchar]. |\n",
    "|endswith(suffix) |Return True if the string ends with the substring suffix.|\n",
    "|startswith(prefix) |Return True if the string starts with the substring prefix.|\n",
    "|index(substring) |Return the lowest index in the string containing substring.|\n",
    "|lstrip([chars]) |Return a copy of the string with any of the leading characters specified by [chars] removed. If [chars] is omitted, any leading whitespace is removed.|\n",
    "|rstrip([chars]) |Return a copy of the string with any of the trailing characters specified by [chars] removed. If [chars] is omitted, any trailing whitespace is removed.|\n",
    "|strip([chars]) |Return a copy of the string with leading and trailing characters specified by [chars] removed. If [chars] is omitted, any leading and trailing whitespace is removed.|\n",
    "|upper() |Return a copy of the string with all characters in uppercase.|\n",
    "|lower() |Return a copy of the string with all characters in lowercase.|\n",
    "|title() |Return a copy of the string with all words starting with capitals and other characters in lowercase.|\n",
    "|replace(old,new) |Return a copy of the string with each substring old replaced with new.|\n",
    "|split([sep]) |Return a list of substrings from the original string which are separated by the string sep. If sep is not specified, the separator is taken to be any amount of whitespace.|\n",
    "|join([list]) |Use the string as a separator in joining a list of strings.|\n",
    "|isalpha() |Return True if all characters in the string are alphabetic and the string is not empty; otherwise return False.|\n",
    "|isdigit() |Return True if all characters in the string are digits and the string is not empty; otherwise return False.|"
   ]
  },
  {
   "cell_type": "code",
   "execution_count": 12,
   "metadata": {},
   "outputs": [
    {
     "data": {
      "text/plain": [
       "'!!!!!!!Hello!!!!!!!!'"
      ]
     },
     "execution_count": 12,
     "metadata": {},
     "output_type": "execute_result"
    }
   ],
   "source": [
    "mystring='Hello'\n",
    "mystring.center(20,'!')"
   ]
  },
  {
   "cell_type": "markdown",
   "metadata": {
    "collapsed": true
   },
   "source": [
    "## The `print` function\n",
    "\n",
    "We have already used the `print` function extensively, however, there are a few additional features we look at here.\n",
    "\n",
    "1. The default for `print` is to generate a new line at the end of its output. This can be changed by including the argument `end`.\n",
    "* `print` will separate string values in its argument list with a single space. This can be changed using the `sep` keyword in the argument list.\n",
    "\n"
   ]
  },
  {
   "cell_type": "code",
   "execution_count": null,
   "metadata": {},
   "outputs": [],
   "source": [
    "string1='Hello'\n",
    "string2='world'\n",
    "print(string1,string2)\n",
    "print(string1,string2,end='\\n\\n')\n",
    "print(string1,string2,sep='      ')"
   ]
  },
  {
   "cell_type": "markdown",
   "metadata": {
    "collapsed": true
   },
   "source": [
    "## String formatting\n",
    "\n",
    "It is often more conventient to leave a spot in a string for a value to be entered from a variable than to join multiple strings together with variable names sandwiched in between.\n"
   ]
  },
  {
   "cell_type": "code",
   "execution_count": null,
   "metadata": {},
   "outputs": [],
   "source": [
    "a=6\n",
    "b=7\n",
    "string='The value of '+str(a)+' + '+str(b)+' is '+str(a+b)\n",
    "print(string)\n",
    "print('The value of',a,'+',b,'is',a+b)"
   ]
  },
  {
   "cell_type": "markdown",
   "metadata": {},
   "source": [
    "This can be done using the `format` method of a `str` type object. \n",
    "\n",
    "In the string, *replacement fields* are indicated by braces which may be:\n",
    "\n",
    "1. empty, ie. `{}`: the arguments of the `format` method are used *in order*;\n",
    "* numbered, eg. `{3}`: the corresponding argument, counting from 0, is used;\n",
    "* named, eg. `{bval}`: the corresponding named argument is used.\n"
   ]
  },
  {
   "cell_type": "code",
   "execution_count": null,
   "metadata": {},
   "outputs": [],
   "source": [
    "a=6\n",
    "b=7\n",
    "string='Values in order: The value of {} + {} is {}'.format(a,b,a+b)\n",
    "print(string)\n",
    "string='Values numbered: The value of {2} + {0} is {1}'.format(b,a+b,a)\n",
    "print(string)\n",
    "string='Values named: The value of {aval} + {bval} is {totval}'.format(totval=a+b,aval=a,bval=b)\n",
    "print(string)"
   ]
  },
  {
   "cell_type": "markdown",
   "metadata": {},
   "source": [
    "The replacement fields may also:\n",
    "\n",
    "* be set to have a *minimum* specified width by adding a colon followed by an integer character width;\n",
    "* aligned using `<`, `>`, and `^` for left, right, and centred alignment respectively. The default is left alignment for strings, and right alignment for numbers."
   ]
  },
  {
   "cell_type": "code",
   "execution_count": null,
   "metadata": {},
   "outputs": [],
   "source": [
    "a=6\n",
    "b=7\n",
    "string='Set min width, right aligned: The value of {:5} + {:5} is {:10}'.format(a,b,a+b)\n",
    "print(string)\n",
    "string='Set min width, left aligned: The value of {:<5} + {:<5} is {:<10}'.format(a,b,a+b)\n",
    "print(string)\n",
    "string='Set min width, centre aligned: The value of {:^5} + {:^5} is {:^10}'.format(a,b,a+b)\n",
    "print(string)\n"
   ]
  },
  {
   "cell_type": "markdown",
   "metadata": {},
   "source": [
    "## Formatting numbers\n",
    "\n",
    "Numbers may be formatted in a similar way to strings with some additional functionality. \n",
    "\n",
    "* The specifiers `d`, `b`, `o`, `x` (or `X`) indicate decimal, binary, octal and lowercase (uppercase) hex integers respectively.\n",
    "* The specifiers `f`, `e` (or `E`), `g` (or `G`) indicate ordinary, scientific, and general (mixed type) floating point numbers respectively. The number of decimal places can be set to `p` places by adding `.p` after the width specifier.\n",
    "* Numbers can be padded to the specified minimum width with leading zeros by putting a `0` in front of the width integer.\n",
    "* For lining up numbers with different signs, you can force a space in front of positive numbers by leaving a space immediately after a `:` in the format specifier. (You can also force a `+` sign in front of positive numbers by placing a `+` immediately after the `:`.)"
   ]
  },
  {
   "cell_type": "code",
   "execution_count": null,
   "metadata": {},
   "outputs": [],
   "source": [
    "a=12345\n",
    "b=-a\n",
    "x=12345.6789\n",
    "y=-x\n",
    "print('a = {:^ 12}, x = {:^ 15.4e}'.format(a,a))\n",
    "print('b = {:^ 12}, y = {:^ 15.4e}'.format(b,b))"
   ]
  },
  {
   "cell_type": "markdown",
   "metadata": {},
   "source": [
    "## CA (6 marks)\n",
    "\n",
    "In the following exercise, you will need to decode a word using `ord` and `chr`.\n",
    "\n",
    "When you run the next cell, a random word and a random positive integer *key* value will be generated. The word will be *encrypted* by calculating an integer representing the Unicode code point for each character with `ord`, adding the key value, and reverting to a character using `chr`.\n",
    "\n",
    "You will need to write a program, which decodes the encrypted word by trialing key values until you find a real word. Run the next cell for your encrypted word now."
   ]
  },
  {
   "cell_type": "code",
   "execution_count": 2,
   "metadata": {},
   "outputs": [
    {
     "name": "stdout",
     "output_type": "stream",
     "text": [
      "Your encoded word is wlypwolyhs\n",
      "Write your program in the cell below this one.\n",
      "\n",
      "When you have decoded the word (it should be a real word if you are correct),\n",
      " run the CA cell underneath and enter the word into the dialogue box.\n"
     ]
    }
   ],
   "source": [
    "vr.a4(True)"
   ]
  },
  {
   "cell_type": "code",
   "execution_count": null,
   "metadata": {},
   "outputs": [],
   "source": [
    "# Write your program in this cell, then, run the cell below "
   ]
  },
  {
   "cell_type": "code",
   "execution_count": 3,
   "metadata": {},
   "outputs": [
    {
     "data": {
      "text/markdown": [
       "**CA** (6%)"
      ],
      "text/plain": [
       "<IPython.core.display.Markdown object>"
      ]
     },
     "metadata": {},
     "output_type": "display_data"
    },
    {
     "name": "stdout",
     "output_type": "stream",
     "text": [
      "Enter your DECODED word here: apples\n",
      "Nnot right yet. Take another look then run this cell again.\n",
      "First success after  3  tries, you have  80 % on this exercise.\n"
     ]
    }
   ],
   "source": [
    "vr.a4(False)"
   ]
  },
  {
   "cell_type": "code",
   "execution_count": null,
   "metadata": {},
   "outputs": [],
   "source": []
  }
 ],
 "metadata": {
  "kernelspec": {
   "display_name": "Python 3",
   "language": "python",
   "name": "python3"
  },
  "language_info": {
   "codemirror_mode": {
    "name": "ipython",
    "version": 3
   },
   "file_extension": ".py",
   "mimetype": "text/x-python",
   "name": "python",
   "nbconvert_exporter": "python",
   "pygments_lexer": "ipython3",
   "version": "3.8.10"
  }
 },
 "nbformat": 4,
 "nbformat_minor": 1
}
