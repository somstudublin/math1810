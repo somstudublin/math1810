{
 "cells": [
  {
   "cell_type": "markdown",
   "metadata": {
    "collapsed": true
   },
   "source": [
    "# TU873/874/1\n",
    "## MATH1810\n",
    "## Introduction to Scientific Python\n",
    "\n",
    "## Notebook 7\n",
    "\n",
    "## Functions, debugging\n",
    "\n",
    "This notebook follows Sections 2.7 and 4.3.3 of Hill."
   ]
  },
  {
   "cell_type": "code",
   "execution_count": null,
   "metadata": {},
   "outputs": [],
   "source": [
    "%run ./.setup.ipynb"
   ]
  },
  {
   "cell_type": "markdown",
   "metadata": {},
   "source": [
    "### Functions\n",
    "\n",
    "A rule-of-thumb for writing good code is that duplication of code should be avoided as far as possible. The main reasons for this are that duplication means code which is more difficult to maintain and read. Whenever sections of code are performing a similar task within you code, it is probably a good idea to use a function.\n",
    "\n",
    "To create a function called `myfunc` which takes in the values of three (for example) objects, with *internal* variable names `a`, `b`, `c`, the `def` keyword is used with the expressions belonging to the function immediately following the `def` line indented.\n",
    "\n",
    "``def myfunc(a,b,c):\n",
    "    line1\n",
    "    line2\n",
    "    .\n",
    "    .\n",
    "``\n",
    "\n",
    "Wherever the function is finished with its task, a `return` statement may be used to go back to the code which called it. The `return` statement can return one value, multiple values packed into a tuple, or no values. \n",
    "\n",
    "\n",
    "``def myfunc(a,b,c):\n",
    "    line1\n",
    "    line2\n",
    "    return x,y,z\n",
    "``\n",
    "\n",
    "The following code illustrates how a function may be used for calculating the roots of multiple quadratic equations without needing to duplicate code.\n"
   ]
  },
  {
   "cell_type": "code",
   "execution_count": null,
   "metadata": {},
   "outputs": [],
   "source": [
    "import math\n",
    "\n",
    "def roots(a, b, c):\n",
    "    d = b**2 - 4*a*c\n",
    "    r1 = (-b + math.sqrt(d)) / 2 / a\n",
    "    r2 = (-b - math.sqrt(d)) / 2 / a\n",
    "    return r1, r2\n",
    "\n",
    "myroots=roots(1., -1., -6.)\n",
    "print('myroots',myroots)\n",
    "\n",
    "myroots=roots(2., -3., -1.)\n",
    "print('myroots',myroots)"
   ]
  },
  {
   "cell_type": "markdown",
   "metadata": {},
   "source": [
    "### Positional arguments\n",
    "\n",
    "Note that in the above example the *order* of the arguments is important: if you change the order, the result will also change. When used in this way, the arguments are referred to as *positional arguments*. We will look at other types of arguments with more flexibility later."
   ]
  },
  {
   "cell_type": "code",
   "execution_count": null,
   "metadata": {},
   "outputs": [],
   "source": [
    "myroots=roots(1., -1., -6.)\n",
    "print('myroots',myroots)\n",
    "\n",
    "myroots=roots(1., -6., -1.)\n",
    "print('myroots',myroots)"
   ]
  },
  {
   "cell_type": "markdown",
   "metadata": {},
   "source": [
    "### `None` return value\n",
    "\n",
    "Note that if the function ends (the indenting comes to an end) without a `return` statement, the function will behave as if encountering a `return` without any return value. In this case the `None` value os returned to the calling code. \n"
   ]
  },
  {
   "cell_type": "code",
   "execution_count": null,
   "metadata": {},
   "outputs": [],
   "source": [
    "def sayhello():\n",
    "    print('hello')\n",
    "    \n",
    "type(sayhello())"
   ]
  },
  {
   "cell_type": "markdown",
   "metadata": {},
   "source": [
    "## Function and variable names\n",
    "\n",
    "Variable names can be used to pass objects of any type to functions. As long as the function treats them in a meaningful way, there is no restriction on the types, or number, of arguments passed.\n",
    "\n",
    "**Functions are treated in the same way as other Python object.**\n",
    "\n",
    "For this reason, variable names can be assigned to functions, and functions can even be passed as arguments.\n",
    "\n",
    "In the following example:\n",
    "\n",
    "1. a function is defined called `sayhello`;\n",
    "* a variable name `afunc` is bound to `sayhello`. At this point, `afunc` does the same thing as `sayhello`;\n",
    "* a new function called `useafunction` is created. This function expects to be given a function as an argument. Internally, it binds its own variable name `a` to whatever function was passed to it and used this vaiable name to call the function. *Note that the function has to be called in a way that is consistent, in this case that means it needs to be called with a string argument!*\n"
   ]
  },
  {
   "cell_type": "code",
   "execution_count": null,
   "metadata": {},
   "outputs": [],
   "source": [
    "def sayhello(somebody):\n",
    "    print('hello',somebody)\n",
    "    \n",
    "afunc=sayhello\n",
    "\n",
    "def useafunction(a,b):\n",
    "    a(b)\n",
    "  \n",
    "useafunction(afunc,'Frank')\n"
   ]
  },
  {
   "cell_type": "markdown",
   "metadata": {
    "collapsed": true
   },
   "source": [
    "### Keyword arguments\n",
    "\n",
    "When the function is defined, there are variable names assumed for use inside the function which are bound to the objects references when the function is called. \n",
    "\n",
    "The variable names used in the definition can be used to be more explicit about which objects are to be used and in which order.\n"
   ]
  },
  {
   "cell_type": "code",
   "execution_count": null,
   "metadata": {},
   "outputs": [],
   "source": [
    "def reportargs(a,b,c,d,e):\n",
    "    print('First arg',a,'\\nSecond arg',b,'\\nThird arg',c,'\\nFourth arg',d,'\\nFifth arg',e,)\n",
    "    \n",
    "reportargs('ape','bee','cow','dog','eel')\n",
    "print()\n",
    "reportargs('ape','bee',e='cow',c='dog',d='eel')"
   ]
  },
  {
   "cell_type": "markdown",
   "metadata": {
    "collapsed": true
   },
   "source": [
    "### Default arguments\n",
    "\n",
    "It is useful to set default arguments for functions where you want to offer the user the floexibility to change the value of something, but don't want to force them to set the value every time.\n",
    "\n",
    "This is done by giving a value to an argument in the definition, if no value is passed by the caller, then this value is used by default.\n"
   ]
  },
  {
   "cell_type": "code",
   "execution_count": null,
   "metadata": {},
   "outputs": [],
   "source": [
    "def reportargs(a,b,c='cow',d='dog',e='eel'):\n",
    "    print('First arg',a,'\\nSecond arg',b,'\\nThird arg',c,'\\nFourth arg',d,'\\nFifth arg',e,)\n",
    "    \n",
    "reportargs('asp','bat')\n",
    "print()\n",
    "reportargs('asp','bat',d='duck')"
   ]
  },
  {
   "cell_type": "markdown",
   "metadata": {},
   "source": [
    "#### Persistence\n",
    "\n",
    "When a function is first defined, any default argument set persists:\n",
    "\n",
    "* if you use a variable name to set a default value, the object that it is bound to *at the time the function is defined* remains the one used for the default value."
   ]
  },
  {
   "cell_type": "code",
   "execution_count": null,
   "metadata": {},
   "outputs": [],
   "source": [
    "myvar='apple'\n",
    "def reporta(a=myvar):\n",
    "    print(a)\n",
    "reporta()\n",
    "\n",
    "myvar='rattle'\n",
    "reporta()\n"
   ]
  },
  {
   "cell_type": "markdown",
   "metadata": {
    "collapsed": true
   },
   "source": [
    "* if the default value is mutable, then it may change with successive calls."
   ]
  },
  {
   "cell_type": "code",
   "execution_count": null,
   "metadata": {},
   "outputs": [],
   "source": [
    "def lister(a=[],b='cat'):\n",
    "    a.append(b)\n",
    "    print(a)\n",
    "lister()\n",
    "lister()\n",
    "lister(b='monkey')"
   ]
  },
  {
   "cell_type": "markdown",
   "metadata": {
    "collapsed": true
   },
   "source": [
    "### Scope\n",
    "\n",
    "1. When an variable is created inside a function, the default behaviour is that it lives inside the function and cannot be seen outside it. This is called a **local variable**.\n",
    "\n",
    "* When a variable is defined outside *all* functions, the default behaviour is that it can be seen everywhere. These variables are called **global**. An important exception is that if a variable with the same name is defined inside a function *and* outside, this results in *two* variables: a local variable which is used inside the function, and a global which is used elsewhere.\n",
    "\n",
    "* It is not normally possible to rebind a global variable within a function (in fact it is possible, but it's generally a bad idea.)\n"
   ]
  },
  {
   "cell_type": "code",
   "execution_count": null,
   "metadata": {},
   "outputs": [],
   "source": [
    "b='badger'\n",
    "c='cat'\n",
    "\n",
    "def myfun():\n",
    "    a='aardvark'\n",
    "    c='chicken'\n",
    "    print('inside id of b and c',id(b),id(c))\n",
    "    print('inside a,b,c:',a,b,c)\n",
    "myfun()\n",
    "\n",
    "print('inside id of b and c',id(b),id(c))\n",
    "print('outside b c:',b,c)"
   ]
  },
  {
   "cell_type": "markdown",
   "metadata": {
    "collapsed": true
   },
   "source": [
    "### Rebinding variables using functions"
   ]
  },
  {
   "cell_type": "code",
   "execution_count": null,
   "metadata": {},
   "outputs": [],
   "source": [
    "#Does not work\n",
    "\n",
    "b='badger'\n",
    "def myfun():\n",
    "    b+='s are cool'\n",
    "\n",
    "myfun()\n",
    "print(b)"
   ]
  },
  {
   "cell_type": "code",
   "execution_count": null,
   "metadata": {},
   "outputs": [],
   "source": [
    "#Does work\n",
    "\n",
    "b='badger'\n",
    "def myfun(b):\n",
    "    b+='s are cool'\n",
    "    return b\n",
    "\n",
    "b=myfun(b)\n",
    "print(b)"
   ]
  },
  {
   "cell_type": "markdown",
   "metadata": {
    "collapsed": true
   },
   "source": [
    "### Python's name-object model, multability, and functions\n",
    "\n",
    "It takes a little practice to get used to, but the fundamental idea behind how Python handles arguments can be understood by again going back to the ideas that:\n",
    "\n",
    "1. everything in Python is an object;\n",
    "\n",
    "* variables are used to reference objects;\n",
    "\n",
    "* depending on mutability, changing a value by variable name, within allowable scope, results in it binding to a new object, or the same (altered) object.\n",
    "\n"
   ]
  },
  {
   "cell_type": "markdown",
   "metadata": {
    "collapsed": true
   },
   "source": [
    "## Recursion\n",
    "\n",
    "In certain circumstances, complicated problems can be solved in an elegant way using *recursion*. This is often possible when a complicated algorithm can be considered as a repeated application of a simple one. In such cases, recursion may be carried out by using a function which *calls itself*, until some stopping condition is met.\n",
    "\n",
    "Usually, recursion does not offer much in the way of computational efficiency however, when this is not a consideration, it can be a simple way of solving a difficult problem.\n",
    "\n",
    "The classic example of recursion (only useful as an illustration), is the calculation of a factorial $n!$ of an integer $n$.\n",
    "\n",
    "In this problem, the first step to note is that $n!=n\\times(n-1)!$. Which amounts to reducing the calculation of the factorial problem to a simple multiplication between $n$ and another factorial.\n",
    "\n",
    "The key here is that we have written the problem as a *slightly simpler version* of the original problem.\n",
    "\n",
    "Applying the same logic repeatedly will result in eventually ending up with requiring $0!$, which is *defined* as being 1. We can choose this as the *stopping condition*.\n"
   ]
  },
  {
   "cell_type": "code",
   "execution_count": null,
   "metadata": {},
   "outputs": [],
   "source": [
    "def fac(n):\n",
    "    if n==0:\n",
    "        return 1   # stopping condition\n",
    "    else:\n",
    "        return n*fac(n-1)\n",
    "\n",
    "num=10    \n",
    "print(num,'!=',fac(num))"
   ]
  },
  {
   "cell_type": "markdown",
   "metadata": {},
   "source": [
    "## `lambda` functions\n",
    "\n",
    "A `lambda` function is a simple function expression (it cannot contain loops etc.)\n",
    "\n",
    "It is quite commonly encountered in Python programmes where a simple function needs to be *dropped-in* to code. While not actually necessary, since a function can be used instead, it is commonly used where the function is simple."
   ]
  },
  {
   "cell_type": "code",
   "execution_count": null,
   "metadata": {},
   "outputs": [],
   "source": [
    "flist = [lambda x: 1, lambda x: x, lambda x: x**2, lambda x: x**3]\n",
    "\n",
    "flist[3](5) "
   ]
  },
  {
   "cell_type": "markdown",
   "metadata": {},
   "source": [
    "#### Exercise\n",
    "\n",
    "Write the above code by defining functions. Which is more compact?\n"
   ]
  },
  {
   "cell_type": "code",
   "execution_count": null,
   "metadata": {},
   "outputs": [],
   "source": [
    "# Write your non-lambda code here"
   ]
  },
  {
   "cell_type": "markdown",
   "metadata": {},
   "source": [
    "\n",
    "## Debugging using `set_trace` from the `ipdb` module\n",
    "\n",
    "The `set_trace` function from the `ipdb` library places an interactive interrupt within your code and which allows you to move through your code and query the values of variables. \n",
    "\n",
    "In the example below, a variable `j` internal to a loop is assigned a value on each iteration. The `set_trace` function may be used to step through the iterations examining the values of the variables. When you run it, a dialogue box will open into which you can type special debugging commands. Some simple cases are in the table below, you can find more on the cheatsheet uploaded onto Webcourses.  \n",
    "\n",
    "** Note that to terminate the debugging session you need to enter `q` into the dialogue box. **\n",
    "\n",
    "\n",
    "The next cell illustrates the use of `set_trace` in a *function* (we will talk more about functions in Notebook7). Run the cell and see if you can use the debugger to find out the value of `i` when `j` first exceeds 50. Check your conclusion using a `print` statement.\n",
    "\n",
    "\n",
    "|command | result |\n",
    "|----|--------|\n",
    "|n |exectute the current line and move to the next |\n",
    "|c| continue to the next interrupt |\n",
    "|p *expr* |print the current value of the expression *expr*|\n",
    "|q |quit the debugging session|\n",
    "\n",
    "\n"
   ]
  },
  {
   "cell_type": "code",
   "execution_count": null,
   "metadata": {},
   "outputs": [],
   "source": [
    "def myfunc():\n",
    "    j=0\n",
    "    for i in range(11,97,17):\n",
    "        j+=(13**i)%19\n",
    "        #print(i,j)\n",
    "        ipdb.set_trace()\n",
    "    return j\n",
    "\n",
    "myfunc()"
   ]
  },
  {
   "cell_type": "markdown",
   "metadata": {},
   "source": [
    "### Using debugger in your own notebooks\n",
    "\n",
    "In your own notebook you can either use the `%run ./.setup.ipynb` command, or else you will need to load the `Tracer` function yourself using\n",
    "\n",
    "`from IPython.core.debugger import Tracer` \n"
   ]
  },
  {
   "cell_type": "markdown",
   "metadata": {
    "collapsed": true
   },
   "source": [
    "## CA (6 marks)\n",
    "\n",
    "The range of a projectile launched at an angle α and speed v on flat terrain is\n",
    "\n",
    "$$R = \\frac{\\nu^2 \\sin(2\\alpha)}{g} ,$$ \n",
    "\n",
    "where $g$ is the acceleration due to gravity which you should take to be $9.81\\,{\\rm ms}^{−2}$ for Earth. The maximum height attained by the projectile is given by\n",
    "\n",
    "$$H = \\frac{\\nu^2 \\sin^2\\alpha}{2g} .$$\n",
    "\n",
    "Write a function called `rangeheight`, which takes values for $\\nu$ in units of ${\\rm ms}^{-1}$ and $\\alpha$ in degrees *in this order*,  to return the range and maximum height, *in this order*, of a projectile (both in units of m).\n",
    "\n",
    "*Hint: make sure your function works as a standalone and read up on how trigonomentric functions work in Python.* \n",
    "\n",
    "When you have defined and tested your function below, run the CA cell underneath."
   ]
  },
  {
   "cell_type": "code",
   "execution_count": null,
   "metadata": {},
   "outputs": [],
   "source": [
    "# define your function \"rangeheight\" here\n",
    "def rangeheight(v,a):\n",
    "    return 2,1"
   ]
  },
  {
   "cell_type": "code",
   "execution_count": null,
   "metadata": {},
   "outputs": [],
   "source": [
    "#run this cell to submit your function \"rangeheight\"\n",
    "vr.a7(rangeheight)"
   ]
  },
  {
   "cell_type": "code",
   "execution_count": null,
   "metadata": {},
   "outputs": [],
   "source": []
  }
 ],
 "metadata": {
  "kernelspec": {
   "display_name": "Python 3 (ipykernel)",
   "language": "python",
   "name": "python3"
  },
  "language_info": {
   "codemirror_mode": {
    "name": "ipython",
    "version": 3
   },
   "file_extension": ".py",
   "mimetype": "text/x-python",
   "name": "python",
   "nbconvert_exporter": "python",
   "pygments_lexer": "ipython3",
   "version": "3.10.12"
  }
 },
 "nbformat": 4,
 "nbformat_minor": 1
}
