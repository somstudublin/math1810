{
 "cells": [
  {
   "cell_type": "markdown",
   "metadata": {
    "collapsed": true
   },
   "source": [
    "# DT205/220/1 \n",
    "## MATH1810\n",
    "## Introduction to Scientific Python\n",
    "\n",
    "## Notebook 4\n",
    "\n",
    "## Lists, tuples, and loops\n",
    "\n",
    "This notebook follows Section 2.4 of Hill."
   ]
  },
  {
   "cell_type": "code",
   "execution_count": 1,
   "metadata": {},
   "outputs": [
    {
     "name": "stdout",
     "output_type": "stream",
     "text": [
      "\n",
      "Setup complete\n"
     ]
    }
   ],
   "source": [
    "%run ./.setup.ipynb"
   ]
  },
  {
   "cell_type": "markdown",
   "metadata": {},
   "source": [
    "## Defining a list object\n",
    "\n",
    "A list in Python is an object of type `list`.\n",
    "\n",
    "1. Lists are the first *mutable* object we have come across. \n",
    "* They are *compound* data types, meaning they are made up using other data types (including other lists).\n",
    "* They are *iterable* data types, meaning the order of the items in a list is determined. If a *subscriptable* type, items may be referenced by index.\n",
    "* Lists are defined using square brackets: `[` to start, and `]` to end, with commas `,` separating the elements.\n",
    "* An empty list is created using `[]`\n",
    "* Items in a list may be retrieved via its *index*, starting from zero.\n"
   ]
  },
  {
   "cell_type": "code",
   "execution_count": null,
   "metadata": {},
   "outputs": [],
   "source": [
    "list1=[1,'two',3.14,0]\n",
    "type(list1)\n",
    "print(list1)\n",
    "list1[1]\n",
    "list1[1][1]"
   ]
  },
  {
   "cell_type": "markdown",
   "metadata": {},
   "source": [
    "### Mutability\n",
    "\n",
    "Recall that when a variable name is bound to an immutable object value and subsequently bound to a new immutable object value it is like moving a tag from one object to another, and both objects exist indepependently (at least until they are destroyed if no longer required)."
   ]
  },
  {
   "cell_type": "code",
   "execution_count": null,
   "metadata": {},
   "outputs": [],
   "source": [
    "a=4\n",
    "id(a)\n",
    "a=6\n",
    "id(a)"
   ]
  },
  {
   "cell_type": "markdown",
   "metadata": {},
   "source": [
    "With lists, because they are mutable, this behaviour is different. \n",
    "\n",
    "The list is itself like a set of *tags* which can be changed. As a result, changing an item in a list may result in a new object being created and referenced, but does not create a new list, rather altering the existing one."
   ]
  },
  {
   "cell_type": "code",
   "execution_count": null,
   "metadata": {},
   "outputs": [],
   "source": [
    "list1=[3.1,6.5]\n",
    "list1\n",
    "id(list1)\n",
    "list1[1]=-7.7\n",
    "list1\n",
    "id(list1)"
   ]
  },
  {
   "cell_type": "markdown",
   "metadata": {},
   "source": [
    "Note that if a variable name bound to a list is used in an assignment to a different list, this results in the name being bound to the new object as in any other assignment."
   ]
  },
  {
   "cell_type": "code",
   "execution_count": null,
   "metadata": {},
   "outputs": [],
   "source": [
    "list1=[1,'two']\n",
    "id(list1)\n",
    "list1=[3,'four']\n",
    "id(list1)"
   ]
  },
  {
   "cell_type": "markdown",
   "metadata": {},
   "source": [
    "When an item in a list is assigned using a variable name for an immutable object, a new tag is created for the referenced immutable object as the item. Hence, reassigning the original variable name to a new immutable object does not change the list's items."
   ]
  },
  {
   "cell_type": "code",
   "execution_count": null,
   "metadata": {},
   "outputs": [],
   "source": [
    "a=4\n",
    "b=6\n",
    "list1=[a,b]\n",
    "list1\n",
    "id(list1)\n",
    "a='hello'\n",
    "b='world'\n",
    "list1\n",
    "id(list1)"
   ]
  },
  {
   "cell_type": "markdown",
   "metadata": {},
   "source": [
    "By the same logic, when an item in a list is assigned using a variable name for a mutable object (such as another list), the same mutable object is referenced, even if it itself is changed.\n"
   ]
  },
  {
   "cell_type": "code",
   "execution_count": null,
   "metadata": {},
   "outputs": [],
   "source": [
    "list1=[2,'hello']\n",
    "list2=[6.6,list1]\n",
    "list1\n",
    "list2\n",
    "id(list1)\n",
    "id(list2)\n",
    "list1[1]='goodbye'\n",
    "list1\n",
    "list2\n",
    "id(list1)\n",
    "id(list2)"
   ]
  },
  {
   "cell_type": "markdown",
   "metadata": {},
   "source": [
    "### Basic list manipulation\n",
    "\n",
    "\n",
    "Some of the same manipulations can be carried out with lists as we encountered for strings.\n",
    "\n",
    "1. Testing for membership using `in`\n",
    "* Slicing a list creates a copy of the relevant items into **a new list**. (Remember that indices run from 0 up to, but not including the end index.)"
   ]
  },
  {
   "cell_type": "code",
   "execution_count": null,
   "metadata": {},
   "outputs": [],
   "source": [
    "list1=[2,4,6,8,'hello','world']\n",
    "'hello' in list1\n",
    "list2=list1[2:5]\n",
    "list2[0]='new'\n",
    "list1\n",
    "list2"
   ]
  },
  {
   "cell_type": "markdown",
   "metadata": {},
   "source": [
    "### List methods\n",
    "\n",
    "\n",
    "\n",
    "|  Method|  Description     |\n",
    "|----|--------|\n",
    "|append(element)| Append element to the end of the list.|\n",
    "|extend(list2)| Extend the list with the elements from list2.|\n",
    "|index(element)| Return the lowest index of the list containing element.|\n",
    "|insert(index, element)| Insert element at index index.|\n",
    "|pop()| Remove and return the last element from the list.|\n",
    "|reverse()| Reverse the list in place.|\n",
    "|remove(element)| Remove the first occurrence of element from the list.|\n",
    "|sort()| Sort the list in place.|\n",
    "|copy()| Return a copy of the list.|\n",
    "|count(element)| Return the number of elements equal to element in the list.|\n",
    "\n",
    "\n",
    "The `sorted()` built-in function returns a sorted copy of the list. \n",
    "\n",
    "By default `sort` and `sorted` sort in ascending order. To sort in descending order the optional argument `reverse=True` is specified."
   ]
  },
  {
   "cell_type": "markdown",
   "metadata": {},
   "source": [
    "### Exercise \n",
    "In the cell below, starting with the list `mylist`, write a demonstration for all of the methods above (and also the function `sorted`).\n"
   ]
  },
  {
   "cell_type": "code",
   "execution_count": null,
   "metadata": {},
   "outputs": [],
   "source": [
    "mylist=[]\n",
    "# Write your code for the exercise below this line, do not change the lines above\n"
   ]
  },
  {
   "cell_type": "markdown",
   "metadata": {},
   "source": [
    "## Tuples\n",
    "\n",
    "1. A `tuple` is an immutable form of a `list`, hence cannot be altered once created. Note that a variable name can still be assigned to a different tuple but this causes a new immutable tuple to be created.\n",
    "\n",
    "* It is defined using parentheses `()`, however, the parentheses are not necessarily required. (Note that to reference items in a tuple square brackets are still used as in strings and lists.)\n",
    "\n",
    "* Tuples are faster in computing that lists, so are preferred in computationally intensive applications.\n",
    "\n",
    "* An empty tuple is created with empty parentheses.\n",
    "\n",
    "* A tuple with a single item is called a singleton. To avoid confusion with other possible meanings, in defeining a singleton, a trailing comma is required."
   ]
  },
  {
   "cell_type": "code",
   "execution_count": null,
   "metadata": {},
   "outputs": [],
   "source": [
    "a='two'\n",
    "tuple1=1,a,3\n",
    "tuple1\n",
    "tuple1[1]\n",
    "a=2\n",
    "tuple1"
   ]
  },
  {
   "cell_type": "markdown",
   "metadata": {},
   "source": [
    "Note that if a variable name bound to a list is used in an assignment to a different list, this results in the name being bound to the new object as in any other assignment."
   ]
  },
  {
   "cell_type": "code",
   "execution_count": null,
   "metadata": {},
   "outputs": [],
   "source": [
    "tuple1=(1,'two')\n",
    "id(tuple1)\n",
    "tuple1=(3,'four')\n",
    "id(tuple1)"
   ]
  },
  {
   "cell_type": "markdown",
   "metadata": {},
   "source": [
    "While a tuple is immutable, it may contain lists as items. The particular list referenced may not be changed, but since the list itself *may* be changed, the tuple will inherit any such change."
   ]
  },
  {
   "cell_type": "code",
   "execution_count": null,
   "metadata": {},
   "outputs": [],
   "source": [
    "list1=[3,'four']\n",
    "tuple1=[1,'two',list1]\n",
    "tuple1\n",
    "id(tuple1)\n",
    "list1[1]=4\n",
    "tuple1\n",
    "id(tuple1)"
   ]
  },
  {
   "cell_type": "markdown",
   "metadata": {},
   "source": [
    "Tuple packing, and tuple unpacking, are common usages in Python. Since in assignments, the right hand side is always evaluated first, this is a useful way of swapping values."
   ]
  },
  {
   "cell_type": "code",
   "execution_count": null,
   "metadata": {},
   "outputs": [],
   "source": [
    "a='first'\n",
    "b='second'\n",
    "a,b=b,a\n",
    "a,b"
   ]
  },
  {
   "cell_type": "markdown",
   "metadata": {},
   "source": [
    "## Iterable objects\n",
    "\n",
    "Strings, lists, and tuples are all iterable objects, meaning they consist of ordered sequences of items which may be referenced by index.\n",
    "\n"
   ]
  },
  {
   "cell_type": "markdown",
   "metadata": {},
   "source": [
    "### `for` loops, code blocks, and indenting\n",
    "\n",
    "To run through a number of items in Python, such as the items in an iterable object, `for` loops are very useful. The syntax of a `for` loop, with a variable name `myvar` running over the items in an iterable object `myobj`, and the lines of code `code1`, `code2`, `code3` exectuted for each value, is \n",
    "\n",
    "```\n",
    "for myvar in myobj:\n",
    "    code1\n",
    "    code2\n",
    "    code3\n",
    "```\n",
    "\n",
    "The lines of code following the colon are all indented by one tab space (**FOUR single spaces**). Tab spaces are used by Python to delimit *code blocks* - these are chunks of code that belong to a particular structure within your program, in this case the `for` loop. **Indenting is part of a Python program.**\n",
    "\n"
   ]
  },
  {
   "cell_type": "code",
   "execution_count": null,
   "metadata": {},
   "outputs": [],
   "source": [
    "list1=[1,2,3,'hello','there']\n",
    "for a in list1:\n",
    "    print(a)"
   ]
  },
  {
   "cell_type": "markdown",
   "metadata": {},
   "source": [
    "### `any` and `all` and Truthiness\n",
    "\n",
    "The built-in function `any` and `all` are used to check if any or all of the items in an iterable object are Truthy.\n",
    "\n",
    "The Truthiness of a value on Python is `False` if it is:\n",
    "\n",
    "* `None`,\n",
    "* `False`,\n",
    "* Zero in any numeric type,\n",
    "* Any empty sequence (or mapping), for example, `''`, `()`, `[]` (or `{}`),\n",
    "\n",
    "and otherwise `True`\n",
    "\n",
    "A `for` loop can be used to construct a list of test results and subsequently `any` and `all` can be used to check the results as a whole."
   ]
  },
  {
   "cell_type": "code",
   "execution_count": null,
   "metadata": {},
   "outputs": [],
   "source": [
    "list1=[-5.4,6.8,16.3,-3.0,-0.4,10.1]\n",
    "list2=[]\n",
    "list3=[]\n",
    "for i in list1:\n",
    "    list2.append(i>0.0)\n",
    "    list3.append(i<17.0)\n",
    "print('At least one test result in list2 is true :',any(list2))\n",
    "print('All test results in list2 is true         :',all(list2))\n",
    "print('At least one test result in list3 is true :',any(list3))\n",
    "print('All test results in list3 is true         :',all(list3))"
   ]
  },
  {
   "cell_type": "markdown",
   "metadata": {
    "collapsed": true
   },
   "source": [
    "### Unpacking iterable objects\n",
    "\n",
    "It is often useful to have the values required for a particular purpose packed into a `list` or `tuple`. Sometimes these values need to be used as arguments for a function and unpacked again. Python allows a way to do this on the fly by putting an asterisk in front of the packed obect name inside the function argument parentheses. \n"
   ]
  },
  {
   "cell_type": "code",
   "execution_count": null,
   "metadata": {},
   "outputs": [],
   "source": [
    "list1=[1,'two',3,'apple']\n",
    "print(list1)\n",
    "print(*list1)"
   ]
  },
  {
   "cell_type": "markdown",
   "metadata": {
    "collapsed": true
   },
   "source": [
    "### The `range` object type\n",
    "\n",
    "An `range` is another immutable, iterable object used to store a count from a starting value, with a fixed stride, up to (but not inlcuding) a terminal value. The stride may be negative for counting downwards, and if not present, is assumed to be 1. A `range` object is subscriptable.\n"
   ]
  },
  {
   "cell_type": "code",
   "execution_count": null,
   "metadata": {},
   "outputs": [],
   "source": [
    "a=range(7,18,3)\n",
    "print(*a)\n",
    "type(a)\n"
   ]
  },
  {
   "cell_type": "markdown",
   "metadata": {},
   "source": [
    "### `enumerate` object type\n",
    "\n",
    "For looping over all the items in a `list` or `tuple`, it is better to use an `enumerate` object constructed using the `enumerate` built-in function.\n",
    "\n",
    "An `enumerate` iterator object contains a `tuple` for each item (consisting of an index and the item). When created by the `enuerate` function inside a `for` loop, it is automatically unpacked.\n",
    "\n",
    "An `enumerate` object is not subscriptable so to access the individual tuples, it needs to be converted to a `list` first.\n"
   ]
  },
  {
   "cell_type": "code",
   "execution_count": null,
   "metadata": {},
   "outputs": [],
   "source": [
    "list1=('tom','harry','mary','margaret')\n",
    "for ind,forename in enumerate(list1):\n",
    "    print(ind,' : ',forename)\n",
    "\n",
    "a=enumerate(list1)\n",
    "b=list(a)\n",
    "b[2]"
   ]
  },
  {
   "cell_type": "markdown",
   "metadata": {},
   "source": [
    "### `zip` object type\n",
    "\n",
    "The `zip` function may be used to create an iterator object of type `zip` by creating tuples consisting of the corresponding items from two lists. \n",
    "\n",
    "If lists are of different lengths, the tuples are created up to the last element in the shorter list.\n",
    "\n",
    "`zip` can be used to *unzip* as well by prepending an asterisk to the `zip` object name as an argument.\n",
    "\n",
    "An `zip` object is not subscriptable so to access the individual tuples, it needs to be converted to a `list` first.\n"
   ]
  },
  {
   "cell_type": "code",
   "execution_count": null,
   "metadata": {},
   "outputs": [],
   "source": [
    "a=[1,2,3,4]\n",
    "b=['a','b','c','d']\n",
    "c=zip(a,b)\n",
    "g,h=zip(*c)\n",
    "print(g,h)\n"
   ]
  },
  {
   "cell_type": "markdown",
   "metadata": {},
   "source": [
    "## CA Exercise (6 marks)\n",
    "\n",
    "A `list` could be used as a simple representation of a polynomial, $P(x)$, with the items as the coefficients of the successive increasing powers of $x$, and their indices as the powers themselves. For example, the polynomial $P(x) = 4+15x+12x^3+9x^4+x^5+7x^6$ would is given by the list `[4, 15, 0, 12, 9, 1, 7]`. \n",
    "\n",
    "Write a program in the next cell which, given a list of *any* length with the meaning described above, generates the list corresponding to the *third* derivative of the associated polynomial. "
   ]
  },
  {
   "cell_type": "code",
   "execution_count": null,
   "metadata": {},
   "outputs": [],
   "source": [
    "# Write your program in this cell. \n"
   ]
  },
  {
   "cell_type": "markdown",
   "metadata": {},
   "source": [
    "When you have written and tested your program, you will be able to proceed to the **CA** component below. Note that this will only work from the start of the lab class on Thursday. In the lab class, you will be able to run the cell to obtain the list for your own new list corresponding to some polynomial $P(x)$. Copy and paste this list into your program, run your program to obtain the output list. You may then run the following cell and copy and paste your result into the dialoque box.\n",
    "\n"
   ]
  },
  {
   "cell_type": "code",
   "execution_count": 2,
   "metadata": {},
   "outputs": [
    {
     "name": "stdout",
     "output_type": "stream",
     "text": [
      "Run your program for the list below:\n",
      " [5, 2, 1, 2, 5, 8, 1, 7, 9]\n",
      "Run the next cell and copy and paste your result, as a list of the same length, into the dialogue box.\n"
     ]
    }
   ],
   "source": [
    "vr.a5(True)"
   ]
  },
  {
   "cell_type": "code",
   "execution_count": null,
   "metadata": {},
   "outputs": [],
   "source": [
    "vr.a5(False)"
   ]
  },
  {
   "cell_type": "code",
   "execution_count": null,
   "metadata": {},
   "outputs": [],
   "source": []
  }
 ],
 "metadata": {
  "kernelspec": {
   "display_name": "Python 3",
   "language": "python",
   "name": "python3"
  },
  "language_info": {
   "codemirror_mode": {
    "name": "ipython",
    "version": 3
   },
   "file_extension": ".py",
   "mimetype": "text/x-python",
   "name": "python",
   "nbconvert_exporter": "python",
   "pygments_lexer": "ipython3",
   "version": "3.8.6"
  }
 },
 "nbformat": 4,
 "nbformat_minor": 1
}
