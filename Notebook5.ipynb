{
 "cells": [
  {
   "cell_type": "markdown",
   "metadata": {
    "collapsed": true
   },
   "source": [
    "# DT205/220/1 \n",
    "## MATH1810\n",
    "## Introduction to Scientific Python\n",
    "\n",
    "## Notebook 5\n",
    "\n",
    "## Control flow\n",
    "\n",
    "This notebook follows Section 2.5 of Hill."
   ]
  },
  {
   "cell_type": "code",
   "execution_count": null,
   "metadata": {},
   "outputs": [],
   "source": [
    "%run ./.setup.ipynb"
   ]
  },
  {
   "cell_type": "markdown",
   "metadata": {},
   "source": [
    "## `if` ... `elif` ... `else`\n",
    "\n",
    "The `if` ... `elif` ... `else` construction is used as it reads. Following the `if` and `elif` keywords an expression is required which the Python interpreter evaluates according to its *Truthiness*. The simplest case is a test which evaluates to the Booleans `True` or `False`, but more general values may be used. In particular, any non-zero number is treated as true.\n"
   ]
  },
  {
   "cell_type": "code",
   "execution_count": null,
   "metadata": {},
   "outputs": [],
   "source": [
    "print('Divisible by 3?')\n",
    "for x in range(10):\n",
    "    if x % 3:\n",
    "        print(x, 'No')\n",
    "    else:\n",
    "        print(x, 'Yes')\n"
   ]
  },
  {
   "cell_type": "markdown",
   "metadata": {},
   "source": [
    "Tests can become unecessarily complicated if not carefully thought out. See if you can write a program to test if a year is a leap year or not. The rules are:\n",
    "\n",
    "If a year is divisible by 4 it is a leap year, unless it is divisible by a hundred, in which case it is *not* a leap year, unless it is divisible by 400, in which case it is. \n",
    "\n"
   ]
  },
  {
   "cell_type": "code",
   "execution_count": null,
   "metadata": {},
   "outputs": [],
   "source": [
    "year = 1900\n",
    "# Write your code to test if year is a leap year below\n"
   ]
  },
  {
   "cell_type": "markdown",
   "metadata": {},
   "source": [
    "## `while` loops\n",
    "\n",
    "We have already seen `for` loops, which are used to repeat tasks over some specified set of iterations, often a range of values of known.\n",
    "\n",
    "`while` loops are also used to repeat tasks, the difference being that it is not specified in advance how many iterations will occur.\n",
    "\n",
    "When writing a loop, the basic rule-of-thumb for deciding whether to implement a `for` loop or a `while` loop is to decide if the Python interpreter can be easily told exactly how many iterations are required immediately before starting the loop. If it can, a `for` loop is natural, if not, a `while` loop is more natural.\n",
    "\n",
    "For example, adding the cube of the numbers from 1 to 100 requires 100 iterations, and therefore a `for` loop is natural. On the other hand, adding the cubes of the numbers from 1 until you get a total greater than 1000 does not have an (easily) known number of iterations and therefore a `while` loop is more natural.\n",
    "\n",
    "On the following example, Euclid's algorithm is implemented to find the GCD of `a` and `b` in two lines.\n"
   ]
  },
  {
   "cell_type": "code",
   "execution_count": null,
   "metadata": {},
   "outputs": [],
   "source": [
    "a, b = 1071, 462\n",
    "while b:\n",
    "    a, b = b, a % b\n",
    "print(a)"
   ]
  },
  {
   "cell_type": "markdown",
   "metadata": {},
   "source": [
    "## `break`, `else`, `continue` and `pass`\n",
    "\n",
    "`while` and `for` loops can run their course and complete *normally* as described above.\n",
    "\n",
    "It is also possible to interrupt the normal behaviour of a loop using `break`. A `break` statement interrupts the loop it is in and exits from it onto the next line of code. Note this is something which should be done with care and only if it leads to *clearer* code! For example, if you decide to use a `while` loop with a `break` statement, you should consider whether a `for` loop is more natural:"
   ]
  },
  {
   "cell_type": "code",
   "execution_count": null,
   "metadata": {},
   "outputs": [],
   "source": [
    "#Adding cubes from 1 to 10 using while\n",
    "i=1\n",
    "sum=0\n",
    "while True:\n",
    "    sum=sum+i^3\n",
    "    i=i+1\n",
    "    if i>10:\n",
    "        break\n",
    "print('sum',sum)"
   ]
  },
  {
   "cell_type": "code",
   "execution_count": null,
   "metadata": {},
   "outputs": [],
   "source": [
    "#Adding cubes from 1 to 10 using for\n",
    "sum=0\n",
    "for i in range(1,11):\n",
    "    sum=sum+i^3\n",
    "print('sum',sum)"
   ]
  },
  {
   "cell_type": "markdown",
   "metadata": {},
   "source": [
    "If you **do not** `break` out of a `for` or a `while` loop, it is considered not to have completed normally by the interpreter and you can choose to do something `else` instead. Try the example below for testing if a list has negative numbers in it with and without negative numbers. (Can you write a much neater version of this code?)"
   ]
  },
  {
   "cell_type": "code",
   "execution_count": null,
   "metadata": {},
   "outputs": [],
   "source": [
    "# else statement following abnormal loop completion\n",
    "\n",
    "alist = [0, 4, 5, 2, 5, 10]\n",
    "for i, a in enumerate(alist):\n",
    "    if a < 0:\n",
    "        print(a, 'occurs at index', i)\n",
    "        break\n",
    "else:\n",
    "    print('no negative numbers in the list (break not triggered!)')"
   ]
  },
  {
   "cell_type": "markdown",
   "metadata": {},
   "source": [
    "It is also possible to interrupt *just the current iteration* using `continue`, so that the interpreter skips immediately to the start of the *next* iteration. Note that the use of `continue` does not imply that the loop behaved abnormally and so a following `else` block will be triggered!"
   ]
  },
  {
   "cell_type": "code",
   "execution_count": null,
   "metadata": {},
   "outputs": [],
   "source": [
    "#using continue to interrupt individual iterations\n",
    "for i in range(1, 11):\n",
    "    if i % 2:\n",
    "        continue\n",
    "    print(i, 'is even')\n",
    "else:\n",
    "    print('If you see this, the else block was triggered (continue does not affect this!)')"
   ]
  },
  {
   "cell_type": "markdown",
   "metadata": {},
   "source": [
    "When you write code, it is *very* good practice to make incremental small changes and run your code each time. When you do this, you can clearly only work on one block of code at a time and the `pass` statement is very useful. The `pass` statement is just a placeholder that you can use to indicate *something goes here* until you are ready to work on it. It does nothing but is a valid line of Python so that if it. Try removing the pass statement below and see what happens.\n"
   ]
  },
  {
   "cell_type": "code",
   "execution_count": null,
   "metadata": {},
   "outputs": [],
   "source": [
    "# eventually will put something where pass statement is for when i is 6\n",
    "for i in range(1, 11):\n",
    "    if i == 6:\n",
    "        pass\n",
    "    if not i % 3:\n",
    "        print(i, 'is divisible by 3')"
   ]
  },
  {
   "cell_type": "markdown",
   "metadata": {},
   "source": [
    "## CA Exercise: Turtle code (10 marks)\n",
    "\n",
    "A simple “turtle” virtual robot lives on an infinite two-dimensional plane on which its location is always an integer pair of (x, y) coordinates. It can face only in directions parallel to the x and y axes (i.e. ‘North,’ ‘East,’ ‘South’ or ‘West’) and it understands four commands:\n",
    "\n",
    "* F: move forward one unit;\n",
    "* L: turn left (counterclockwise) by 90 degrees;\n",
    "* R: turn right (clockwise) by 90 degrees;\n",
    "* S: stop and exit.\n",
    "\n",
    "The following Python program takes a list of such commands as a string and tracks the turtle’s location. The turtle starts at (0, 0), facing in the direction (1, 0) (‘East’). The program ignores (but warns about) invalid commands and reports when the turtle crosses its own path. \n",
    "\n",
    "**CA** \n",
    "\n",
    "Read through the code and try it out for different cases. When you understand it, write a short \"manual\" on how it works (approx. 1 page) and submit it **in PDF format only** via Brightspace. (You can use any word processing package you wish, however, you may also want to try out using Markdown in a notebook and exporting to PDF.)\n"
   ]
  },
  {
   "cell_type": "code",
   "execution_count": null,
   "metadata": {},
   "outputs": [],
   "source": [
    "commands = 'FFFFFLFFFLFFFFRRRFXFFFFFFS'\n",
    "# Current location, current facing direction\n",
    "x, y = 0, 0\n",
    "dx, dy = 1, 0\n",
    "# Keep track of the turtle’s location in the list of tuples, locs\n",
    "locs = [(0, 0)]\n",
    "\n",
    "for cmd in commands:\n",
    "    if cmd == 'S':\n",
    "        # Stop command\n",
    "        break\n",
    "    if cmd == 'F':\n",
    "        # Move forward in the current direction\n",
    "        x += dx\n",
    "        y += dy\n",
    "        if (x, y) in locs:\n",
    "            print('Path crosses itself at: ({}, {})'.format(x,y))\n",
    "        locs.append((x,y))\n",
    "        continue\n",
    "    if cmd in 'LR':\n",
    "        # Turn to the left (counterclockwise) or right (clockwise)\n",
    "        # L => (dx, dy): (1,0) -> (0, 1) -> (-1,0) -> (0,-1) -> (1,0)\n",
    "        # R => (dx, dy): (1,0) -> (0,-1) -> (-1,0) -> (0, 1) -> (1,0)\n",
    "        sgn = 1        \n",
    "        if dy != 0:\n",
    "            sgn = -1\n",
    "        if cmd == 'R':\n",
    "            sgn = -sgn\n",
    "        dx, dy = sgn * dy, sgn * dx\n",
    "        continue\n",
    "        # if we’re here it’s because we don’t recognize the command: warn\n",
    "        print('Unknown command:', cmd)\n",
    "else:\n",
    "    # We exhausted the commands without encountering an S for STOP\n",
    "    print('Instructions ended without a STOP')\n",
    "# Plot a path of asterisks\n",
    "# First find the total range of x and y values encountered\n",
    "x, y = zip(*locs)\n",
    "xmin, xmax = min(x), max(x)\n",
    "ymin, ymax = min(y), max(y)\n",
    "# The grid size needed for the plot is (nx, ny)\n",
    "nx = xmax - xmin + 1\n",
    "ny = ymax - ymin + 1\n",
    "# Reverse the y-axis so that it decreases *down* the screen\n",
    "for iy in reversed(range(ny)):\n",
    "    for ix in range(nx):\n",
    "        if (ix+xmin, iy+ymin) in locs:\n",
    "            print('*', end='')\n",
    "        else:\n",
    "            print(' ', end='')\n",
    "    print()"
   ]
  },
  {
   "cell_type": "markdown",
   "metadata": {},
   "source": [
    "### Turtle library\n",
    "\n",
    "Note that there is also a separate library called `turtle` that behaves similarly to the program above. You can test this out but you will need to do it on your local machine so that the window displays correctly!\n",
    "\n",
    "`\n",
    "import turtle as t\n",
    "t.Pen()\n",
    "t.forward(30)\n",
    "t.right(60)\n",
    "t.forward(50)\n",
    "`\n"
   ]
  },
  {
   "cell_type": "markdown",
   "metadata": {},
   "source": [
    "## CA (6 marks)\n",
    "\n",
    "When you have written your code to determine the stopping time of the *hailstone sequence* (see problem sheet), run the next cell to generate a number, and determine the stopping time. When you have the stopping time for your generated number, run the cell after and enter your result. \n",
    "\n",
    "*The starting number AND the final number (1) are counted in the stopping time. For example, the hailstone sequence for 4 is 4, 2, 1 and the stopping time is 3.*"
   ]
  },
  {
   "cell_type": "code",
   "execution_count": 1,
   "metadata": {},
   "outputs": [
    {
     "ename": "NameError",
     "evalue": "name 'vr' is not defined",
     "output_type": "error",
     "traceback": [
      "\u001b[0;31m---------------------------------------------------------------------------\u001b[0m",
      "\u001b[0;31mNameError\u001b[0m                                 Traceback (most recent call last)",
      "\u001b[0;32m<ipython-input-1-29a97e5878bb>\u001b[0m in \u001b[0;36m<module>\u001b[0;34m\u001b[0m\n\u001b[0;32m----> 1\u001b[0;31m \u001b[0mvr\u001b[0m\u001b[0;34m.\u001b[0m\u001b[0ma6\u001b[0m\u001b[0;34m(\u001b[0m\u001b[0;32mTrue\u001b[0m\u001b[0;34m)\u001b[0m\u001b[0;34m\u001b[0m\u001b[0;34m\u001b[0m\u001b[0m\n\u001b[0m",
      "\u001b[0;31mNameError\u001b[0m: name 'vr' is not defined"
     ]
    }
   ],
   "source": [
    "vr.a6(True)"
   ]
  },
  {
   "cell_type": "code",
   "execution_count": null,
   "metadata": {},
   "outputs": [],
   "source": [
    "vr.a6(False)"
   ]
  }
 ],
 "metadata": {
  "kernelspec": {
   "display_name": "Python 3",
   "language": "python",
   "name": "python3"
  },
  "language_info": {
   "codemirror_mode": {
    "name": "ipython",
    "version": 3
   },
   "file_extension": ".py",
   "mimetype": "text/x-python",
   "name": "python",
   "nbconvert_exporter": "python",
   "pygments_lexer": "ipython3",
   "version": "3.8.6"
  }
 },
 "nbformat": 4,
 "nbformat_minor": 1
}
