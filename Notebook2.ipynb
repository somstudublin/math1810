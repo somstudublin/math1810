{
 "cells": [
  {
   "cell_type": "markdown",
   "metadata": {},
   "source": [
    "# TU873/874/1\n",
    "## MATH1810\n",
    "## Introduction to Scientific Python\n",
    "\n",
    "## Notebook2\n",
    "\n",
    "## Numbers, variables, comparisons and logic"
   ]
  },
  {
   "cell_type": "markdown",
   "metadata": {},
   "source": [
    "This notebook follows Section 2.2 from Hill."
   ]
  },
  {
   "cell_type": "code",
   "execution_count": 1,
   "metadata": {},
   "outputs": [
    {
     "name": "stdout",
     "output_type": "stream",
     "text": [
      "\n",
      "Setup complete\n"
     ]
    }
   ],
   "source": [
    "%run ./.setup.ipynb"
   ]
  },
  {
   "cell_type": "markdown",
   "metadata": {},
   "source": [
    "### (Minor) issue with Chrome\n",
    "\n",
    "The is a very minor problem with the display of Jupyter notebooks in Chrome whereby a small vertical line may appear at the end of mathematical expressions. It is cosmetic only and does not affect anything to do with how the notebook runs.  You can just be aware and ignore them when encountered, or switch to any other browser (like Firefox)."
   ]
  },
  {
   "cell_type": "markdown",
   "metadata": {},
   "source": [
    "### Some terminlogy\n",
    "\n",
    "\n",
    "1. Every \"thing\" in Python is called an *object*. \n",
    "\n",
    "* Objects have different features, which are called *attributes*, and can be values, or *methods*.\n",
    "\n",
    "* Python is designed to *modular*. This means it tries to \"stay small\" and if you want additional parts added you need to do this explicitly by adding *packages* or *modules*.\n",
    "\n",
    "* Python is an *interpreted language* which means that when it is run on a computer, an interpreter executes the lines of code directly.\n",
    "\n",
    "* Python is *dynamically typed* meaning that it will try to decide what kind of object is being used based on what you are using is for.\n",
    "\n",
    "These terms here will be explained in more detail through the course of the lectures.\n"
   ]
  },
  {
   "cell_type": "markdown",
   "metadata": {},
   "source": [
    "### Diplaying output, the `print` function and comments\n",
    "\n",
    "Your notebooks have been setup to output the results from every line. Note that the *default* behaviour is for just the last expression to display on the screen. If you open a new notebook you will notice this.\n",
    "\n",
    "We will talk about functions again later, but it is useful to be able to get the interpreter to print the values of objects to the screen right away.\n",
    "\n",
    "* To do this, we will use the `print` function, which is used by putting the object you want the value of in parentheses after the name `print`\n",
    "\n",
    "* To print a string of characters *literally* you use quotes, otherwise, if you want the value of the object you do not use the quotes.\n",
    "\n",
    "* To print multiple things, you put them into the parentheses separated by commas.\n",
    "\n",
    "* To have a line in your Python code which is a note to you or anyone else reading your code, but which you want the interpreter to ignore, you start the line with the # symbol.\n"
   ]
  },
  {
   "cell_type": "code",
   "execution_count": null,
   "metadata": {},
   "outputs": [],
   "source": [
    "# This cell will print hello world\n",
    "print('Hello world')"
   ]
  },
  {
   "cell_type": "markdown",
   "metadata": {},
   "source": [
    "## Numbers\n",
    "\n",
    "### Types of numbers\n",
    "\n",
    "* Integers <br>\n",
    "Any whole number (without a decimal point) is interpreted an object of type `int`\n",
    "\n",
    "* Floating point numbers<br>\n",
    "Any number wit a decimal point is interpreted as an object of type `float`<br>\n",
    "Floating point numbers can be given in scientific notation using either `e` or `E` before the power of 10.\n",
    "   \n",
    "* Complex numbers<br>\n",
    "Any number with an imaginary part (in Python `j` is used for $\\sqrt{-1}$) is interpreted as a complex number with parts of type `float` \n",
    "\n",
    "Numbers can be changed to different types by using *constructors*, which are just the desired type followed by the number in brackets. Note that using `int` rounds floating point numbers down.\n"
   ]
  },
  {
   "cell_type": "code",
   "execution_count": null,
   "metadata": {},
   "outputs": [],
   "source": [
    "print(1.//3.)"
   ]
  },
  {
   "cell_type": "code",
   "execution_count": null,
   "metadata": {},
   "outputs": [],
   "source": [
    "print(int(0.999999999999))"
   ]
  },
  {
   "cell_type": "code",
   "execution_count": null,
   "metadata": {},
   "outputs": [],
   "source": [
    "print('An integer')\n",
    "5\n",
    "print('A float constructed from an integer')\n",
    "float(5)\n",
    "print('A float:')\n",
    "5.5\n",
    "print('An int constructed from a float')\n",
    "int(5.5)\n",
    "print('A complex number')\n",
    "2+5j\n",
    "print('A complex number constructed from ints')\n",
    "complex(2,5)\n",
    "print('A float in scientific form')\n",
    "1.234e-6\n"
   ]
  },
  {
   "cell_type": "markdown",
   "metadata": {},
   "source": [
    "### Basic arithmetic\n",
    "\n",
    "The basic Python arithmetic operators are:\n",
    "\n",
    "$+\\quad $    addition\n",
    "\n",
    "$-\\quad $    substraction\n",
    "\n",
    "$*\\quad $    multiplication\n",
    "\n",
    "$/\\quad $    floating point division\n",
    "\n",
    "$//\\quad $   integer division\n",
    "\n",
    "$\\%\\quad $    modulus (remainder)\n",
    "\n",
    "$**\\quad $    exponentiation\n",
    " \n",
    "\n",
    "The order of precedence for these arthimetic operations is:\n",
    "\n",
    "1. $**$\n",
    "* $*\\quad /\\quad //\\quad \\%$\n",
    "* $+\\quad -$\n",
    "\n",
    "Where operators of the same precedence occur, they are applied from left to right, except for exponentiation which goes the other way.\n",
    "\n",
    "** In Python, expressions inside parentheses are evaluated first.  You can therefore use paretheses to force the order of precedence any time you are unsure. **"
   ]
  },
  {
   "cell_type": "code",
   "execution_count": null,
   "metadata": {},
   "outputs": [],
   "source": [
    "print('multiplication')\n",
    "2*3\n",
    "print('float division')\n",
    "2/3\n",
    "print('int division')\n",
    "2//3\n",
    "print('exponentiation')\n",
    "2**3\n",
    "print('modulus')\n",
    "2%3"
   ]
  },
  {
   "cell_type": "markdown",
   "metadata": {
    "collapsed": true
   },
   "source": [
    "### Methods and attributes of numbers\n",
    "\n",
    "Recall we discussed that objects have attributes.\n",
    "\n",
    "1. Attributes may be values <br>\n",
    "For example, a complex number is an object which has the attributes `real` and `imag`, correspionding to the real and imaginary parts. To reference the attribute of an object, you append the name of the attribute to the object with a . symbol.\n",
    "* Attributes may  be methods <br>\n",
    "For example, the complex conjugate of a complex number may be referenced by the method `conjugate`. Note that to *call* a method you *must* include parentheses, even if they are empty. **Any objects inside the brackets of a method are called *arguments*.**\n"
   ]
  },
  {
   "cell_type": "code",
   "execution_count": null,
   "metadata": {},
   "outputs": [],
   "source": [
    "(7+6j).imag\n",
    "(7+6j).real\n",
    "(7+6j).conjugate()"
   ]
  },
  {
   "cell_type": "markdown",
   "metadata": {},
   "source": [
    "### Mathematical functions and the `math` module\n",
    "\n",
    "There are some built-in functions in Python such as\n",
    "\n",
    "`abs`    for the absolute value \n",
    "\n",
    "`round`    returns the nearest integer of a floating point number\n",
    "\n",
    "For most other standard mathematical functions, it is necessary to import a separate module called `math`\n",
    "\n",
    "This is done using\n",
    "\n",
    "`import`\n",
    "\n",
    "Once loaded, the kernel remembers, but if you restart the kernel you will need to import it again.\n",
    "\n",
    "The functions contained by the `math` module are method type attributes of the module object and referenced in the same was as we used `conjugate`. \n",
    "\n",
    "For example, the square root function from the math module may be used as follows\n"
   ]
  },
  {
   "cell_type": "code",
   "execution_count": null,
   "metadata": {},
   "outputs": [],
   "source": [
    "a=10\n",
    "print(a)"
   ]
  },
  {
   "cell_type": "code",
   "execution_count": null,
   "metadata": {},
   "outputs": [],
   "source": [
    "import math\n",
    "math.sqrt(7)"
   ]
  },
  {
   "cell_type": "markdown",
   "metadata": {},
   "source": [
    "To list all the components of the module we use `dir`"
   ]
  },
  {
   "cell_type": "code",
   "execution_count": null,
   "metadata": {},
   "outputs": [],
   "source": [
    "dir(math)"
   ]
  },
  {
   "cell_type": "markdown",
   "metadata": {},
   "source": [
    "While most of the components of the `math` module are functions, like `sqrt`, there are also the value attributes `e` and `pi` which give the values of the constants $\\pi$ and $e$."
   ]
  },
  {
   "cell_type": "code",
   "execution_count": null,
   "metadata": {},
   "outputs": [],
   "source": [
    "math.pi\n",
    "math.e\n",
    "math.sin(math.pi/3)"
   ]
  },
  {
   "cell_type": "markdown",
   "metadata": {},
   "source": [
    "## Variables\n",
    "\n",
    "Python relies heavily on *names*, which are used to reference objects. You can consider objects as boxes in the computer's memory containing different things. In this analogy, variable names can be treated like tags that may be attached to a box to identify it for later use, and moved to another box if needed. \n",
    "\n",
    "We describe attaching a variable name to an object as *binding* and using the object bound to the variable name as *referencing*.\n",
    "\n",
    "The equals sign $=$ in Python is an *assignment operator*. It is used to bind a variable to an object. For example\n",
    "\n",
    "`apples=10`\n",
    "\n",
    "binds the variable name to the object `10`. \n",
    "\n",
    "We refer to objects like the number `10` as *immutable objects* meaning that they do not change value. \n",
    "\n",
    "* **If the object does not already exist when bound to the variable name, it is first created by the interpreter.**\n",
    "* **The `type` of the object is inferred by the interpreter (called dynamic typing).**\n",
    "\n",
    "The type of the object referred to by a variable name can be displayed using the `type` function.\n",
    "\n",
    "We can ask easily the kernel to print the value of a variable to the screen using the print function. Try changing the value of the variable apples below. "
   ]
  },
  {
   "cell_type": "code",
   "execution_count": null,
   "metadata": {},
   "outputs": [],
   "source": [
    "apples=10\n",
    "print(apples)\n",
    "type(apples)"
   ]
  },
  {
   "cell_type": "markdown",
   "metadata": {},
   "source": [
    "Much as in the same way that multiple tags can be attached to a single box. You can bind two variable names to a single object. \n",
    "\n",
    "Python uses names almost entirely, however, it is also possible (though not generally used) to find the *address* of an object in a computer's memory. The address is in the form of a long integer and, much like a house number, can be used by the interpreter to locate the object. To display the address we can use `id`.  "
   ]
  },
  {
   "cell_type": "code",
   "execution_count": null,
   "metadata": {},
   "outputs": [],
   "source": [
    "apples=257\n",
    "print('The value of the object bound to by apples is',apples)\n",
    "print('The address of the object bound to apples  is',id(apples))\n",
    "pears=apples\n",
    "print('The value of the object bound to by apples is',apples)\n",
    "print('The address of the object bound to pears   is',id(pears))\n",
    "pears=257\n",
    "print('The value of the object bound to by apples is',apples)\n",
    "print('The address of the object bound to pears   is',id(pears))\n"
   ]
  },
  {
   "cell_type": "markdown",
   "metadata": {},
   "source": [
    "#### Subtle point on assignment and integer objects\n",
    "\n",
    "We already said that when a variable name is bound to an object, the object is created if it does not already exist.\n",
    "\n",
    "In general, when an immutable object is used in assignment, a new *instance* of the object is created. In the above example you will notice that while the value of the object referenced by the variable name `pears` is always `257`, the *address* changes after the assignment `pears=257`. This indcates that there are now *two* spearate `int` type objects in the computer memory with value 257. \n",
    "\n",
    "The exception to this behaviour is for small integers. Because these occur so often in programming, Python keeps a store of small `int` objects, one for each value between `-5` and `256`, on hand in a *cache* and uses these as required. Try changing the `257` to `256` and see what happens.\n"
   ]
  },
  {
   "cell_type": "markdown",
   "metadata": {},
   "source": [
    "### Arithmetic with variables\n",
    "\n",
    "You can change the value of objects referenced by variables, creating new objects as needed, by adding, subtracting, multiplying, dividing etc. in exactly the same way as you carried out arithmetic operations with numbers.\n",
    "\n",
    "In the example below, a new variable name `newapples`, is bound to the `int` object `12` by taking the value of the `int` object referenced by `apples` and adding 2 to it.\n",
    "\n",
    "Aritmetic assignment is so commonly used that there is a compact form of it called *augmented assignment* where `apples=apples+5` can be written as `apples+=5`. There are also augmented assignments for `-=`, `*=`, `\\=`, `\\\\=`, `%=` "
   ]
  },
  {
   "cell_type": "code",
   "execution_count": null,
   "metadata": {},
   "outputs": [],
   "source": [
    "apples=10\n",
    "newapples=apples+2\n",
    "print(newapples)"
   ]
  },
  {
   "cell_type": "markdown",
   "metadata": {},
   "source": [
    "You can also use the *current* value of a variable to set a  *new* value: "
   ]
  },
  {
   "cell_type": "code",
   "execution_count": null,
   "metadata": {},
   "outputs": [],
   "source": [
    "pears=7\n",
    "print(pears)\n",
    "pears=pears+6\n",
    "print(pears)\n",
    "pears*=2\n",
    "print(pears)"
   ]
  },
  {
   "cell_type": "markdown",
   "metadata": {},
   "source": [
    "Try figuring out that the final value of the vaiables in the code below *before* running it. Use a pen and paper and work your way down line by line.\n"
   ]
  },
  {
   "cell_type": "code",
   "execution_count": null,
   "metadata": {},
   "outputs": [],
   "source": [
    "first = 2\n",
    "second = 3\n",
    "third = first * second\n",
    "second = third - first\n",
    "first = first + second + third\n",
    "third = second * first\n",
    "print(first,second,third)"
   ]
  },
  {
   "cell_type": "markdown",
   "metadata": {},
   "source": [
    "One very common errors encountered by students learning programming languages like Python for the first time is that the kernel will read the lines of code in the same order as you would normally read them, ie. from top to bottom. What this means is that until you make a variable and give it a value, it will be confused if you ask it about the variable. Try this."
   ]
  },
  {
   "cell_type": "code",
   "execution_count": null,
   "metadata": {},
   "outputs": [],
   "source": [
    "print(lemons)"
   ]
  },
  {
   "cell_type": "markdown",
   "metadata": {},
   "source": [
    "Take a moment here to read through the message. Usually, there is a giveaway as to what the problem is somewhere in there. There is no need to understand the whole message in most cases; just look for this part.\n",
    "\n",
    "When you have found the problem, see if you can add a line of code to the cell above in order to get it to do something sensible.\n"
   ]
  },
  {
   "cell_type": "markdown",
   "metadata": {},
   "source": [
    "A second very common error is to out the assignment in the wrong order. The variable value needs to be on the left so that apples it may be read as \"apples is assigned the value of 4\" for example. The other way in this case around will produce an error as below."
   ]
  },
  {
   "cell_type": "code",
   "execution_count": null,
   "metadata": {},
   "outputs": [],
   "source": [
    "4=apples"
   ]
  },
  {
   "cell_type": "markdown",
   "metadata": {},
   "source": [
    "Note that is you get the order of the assignment the wrong way around with *variables* it will **not** produce an error but will not do the assinment you expect, ie. `apples=pears` has a different effect to `pears=apples`\n"
   ]
  },
  {
   "cell_type": "markdown",
   "metadata": {},
   "source": [
    "## CA (2 marks)\n",
    "\n",
    "If two adjacent sides of a regular, six-sided die have the values $a$ and $b$ when viewed side-on and read left to right, the value of the top of the die is given by \n",
    "\n",
    "$$\n",
    "3(a^3b-ab^3) {\\rm mod 7} .\n",
    "$$\n",
    "\n",
    "Write a program to calculate this value for any values of $a$ and $b$ in the cell below, once you are happy it is running correctly you can run the following cell."
   ]
  },
  {
   "cell_type": "code",
   "execution_count": 3,
   "metadata": {},
   "outputs": [
    {
     "data": {
      "text/plain": [
       "3840"
      ]
     },
     "execution_count": 3,
     "metadata": {},
     "output_type": "execute_result"
    }
   ],
   "source": [
    "#Write your program here\n",
    "3*4**4*5\n"
   ]
  },
  {
   "cell_type": "code",
   "execution_count": 2,
   "metadata": {
    "scrolled": true
   },
   "outputs": [
    {
     "data": {
      "text/markdown": [
       "**CA** (2%)"
      ],
      "text/plain": [
       "<IPython.core.display.Markdown object>"
      ]
     },
     "metadata": {},
     "output_type": "display_data"
    },
    {
     "name": "stdout",
     "output_type": "stream",
     "text": [
      "Run your program (when you are happy it is working correctly) for a= 3  and b= 5\n",
      "Once you have the result output by your program, run the next cell below and enter your answer in the dialogue box.\n"
     ]
    }
   ],
   "source": [
    "vr.a2(True)"
   ]
  },
  {
   "cell_type": "code",
   "execution_count": 4,
   "metadata": {
    "scrolled": true
   },
   "outputs": [
    {
     "name": "stdout",
     "output_type": "stream",
     "text": [
      "Enter your program's result for a= 3  and b= 5\n",
      "(If you are not ready to enter an answer stop the kernel and go back to your program.)\n",
      "Please enter your answer here: 3840\n",
      "Not right yet. Take another look then run this cell again. (Make sure you are working with integers!)\n",
      "First success after  2  tries, you have  90 % on this exercise.\n"
     ]
    }
   ],
   "source": [
    "vr.a2(False)"
   ]
  },
  {
   "cell_type": "markdown",
   "metadata": {
    "collapsed": true
   },
   "source": [
    "### Comparison and logic\n",
    "\n",
    "The final section of this notebook summarises the use of *boolean* objects of type `bool`. These are objects which have one of two possible values`True` and `False`.\n",
    "\n",
    "#### Object value comparison\n",
    "\n",
    "To compare the *values* of objects, you use the following comparison operators.\n",
    "\n",
    "|    |        |\n",
    "|----|--------|\n",
    "|`==`|equal to|\n",
    "|`!=`|not equal to|\n",
    "|`>`|greater than|\n",
    "|`<`|less than|\n",
    "|`>=`|greater than or equal to|\n",
    "|`<=`|less than or equal to|\n",
    "\n",
    "\n",
    "Using Python comparison operators, the values of objects can be compared and a `bool` type object returned as the result.\n",
    "\n"
   ]
  },
  {
   "cell_type": "code",
   "execution_count": null,
   "metadata": {},
   "outputs": [],
   "source": [
    "a=10\n",
    "b=11\n",
    "7==b\n",
    "test=a==b\n",
    "print(test)\n",
    "type(test)"
   ]
  },
  {
   "cell_type": "markdown",
   "metadata": {},
   "source": [
    "** Subtle point on comparison of floating point numbers**\n",
    "\n",
    "One of the major considerations of working with computers is that floating point numbers are stored with a finite *precision* - this usually means that the number is only *correct* to about 16 decimal places. \n",
    "\n",
    "This means that small errors (call *rounding errors*, or sometimes *roundoff errors*) are always present in floating point calculations. In scientific programming, the presence of these errors often requires careful consideration. \n",
    "\n",
    "Because of this, one needs to be very careful to avoid testing for equivalence between floating point numbers. The most you can usually say is that two floating point numbers are *very close* to within roundoff precision.\n",
    "For example, in the cell below, we attempt to compare two floating point numbers which in an exact calculation would be the same, but instead are only close to within about $10^{-17}$"
   ]
  },
  {
   "cell_type": "code",
   "execution_count": null,
   "metadata": {},
   "outputs": [],
   "source": [
    "a=0.01\n",
    "b=0.1**2\n",
    "a==b\n",
    "\n",
    "print('Test if numbers are close to within 1e-16')\n",
    "abs(a-b)<1e-16\n",
    "\n",
    "print('Actual difference between numbers')\n",
    "a-b"
   ]
  },
  {
   "cell_type": "markdown",
   "metadata": {},
   "source": [
    "#### Logic operators\n",
    "\n",
    "Comparisons can be combined using **`not`**, **`and`**, **`or`**.\n",
    "\n",
    "The order of precedence in expressions such as these is that the comparison operators are evaluated first, then the logic operators in the order above.\n",
    "\n",
    "As with arithmetic expressions, the order of precedence can be ensured using parentheses."
   ]
  },
  {
   "cell_type": "markdown",
   "metadata": {},
   "source": [
    "#### Identity\n",
    "\n",
    "We have seen that two different variable names may be bound to different Python objects with the same value.\n",
    "\n",
    "We have also seen that two different variable names may be bound to the same object.\n",
    "\n",
    "Sometimes, it is useful to know which of these is the case. While we could use `id` to compare the *addresses* of the referenced objects, Python provides the more convenient  operators **`is`** and **`is not`** to do this."
   ]
  },
  {
   "cell_type": "code",
   "execution_count": null,
   "metadata": {},
   "outputs": [],
   "source": [
    "a=321\n",
    "b=321\n",
    "print('Check if a and b reference the same object')\n",
    "a is b"
   ]
  },
  {
   "cell_type": "markdown",
   "metadata": {},
   "source": [
    "## CA (6 marks)\n",
    "\n",
    "Write a program which:\n",
    "\n",
    "1. Sets the value of a variable for the number of people in a crowd;\n",
    "* Calculates the total number of heads, shoulders, knees, and toes\n",
    "\n",
    "Write your program in the cell below, once you are happy it is running correctly you can run the following cell for the CA component."
   ]
  },
  {
   "cell_type": "code",
   "execution_count": null,
   "metadata": {},
   "outputs": [],
   "source": [
    "# Write your program here\n"
   ]
  },
  {
   "cell_type": "code",
   "execution_count": null,
   "metadata": {},
   "outputs": [],
   "source": [
    "vr.a3(True)"
   ]
  },
  {
   "cell_type": "code",
   "execution_count": null,
   "metadata": {},
   "outputs": [],
   "source": [
    "vr.a3(False)"
   ]
  },
  {
   "cell_type": "markdown",
   "metadata": {
    "collapsed": true
   },
   "source": [
    "\n",
    "## Next Notebook\n",
    "\n",
    "*Once you are told that it is available*, you can open Notebook3 by going to `File`, selecting `Open`, and clicking on `Notebook3.ipynb` (or you can just click here on <a href=\"Notebook3.ipynb\">Notebook3</a>). \n"
   ]
  },
  {
   "cell_type": "code",
   "execution_count": null,
   "metadata": {},
   "outputs": [],
   "source": []
  }
 ],
 "metadata": {
  "kernelspec": {
   "display_name": "Python 3",
   "language": "python",
   "name": "python3"
  },
  "language_info": {
   "codemirror_mode": {
    "name": "ipython",
    "version": 3
   },
   "file_extension": ".py",
   "mimetype": "text/x-python",
   "name": "python",
   "nbconvert_exporter": "python",
   "pygments_lexer": "ipython3",
   "version": "3.8.10"
  }
 },
 "nbformat": 4,
 "nbformat_minor": 1
}
