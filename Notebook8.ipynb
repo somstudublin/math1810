{
 "cells": [
  {
   "cell_type": "markdown",
   "metadata": {
    "collapsed": true
   },
   "source": [
    "# DT205/220/1 \n",
    "## MATH1810\n",
    "## Introduction to Scientific Python\n",
    "\n",
    "## Notebook 8\n",
    "\n",
    "## NumPy Basics\n",
    "\n",
    "This notebook follows Sections 6.1 and 6.2.1 of Hill."
   ]
  },
  {
   "cell_type": "code",
   "execution_count": null,
   "metadata": {},
   "outputs": [],
   "source": [
    "%run ./.setup.ipynb"
   ]
  },
  {
   "cell_type": "markdown",
   "metadata": {},
   "source": [
    "## Basics\n",
    "\n",
    "The main object in NumPy is the `ndarray` type. It is an array of arbitrary dimensions but of a single type (eg. `int` or `float`).\n",
    "\n",
    "NumPy is *very* commonly use in scientific programming for two reasons:\n",
    "\n",
    "1. speed: it is fast because it is precompiled in C;\n",
    "\n",
    "2. vectorization: whole arrays can be operated on in one expression.\n",
    "\n",
    "To use NumPy, it is imported using\n",
    "\n",
    "``\n",
    "import numpy as np\n",
    "``\n",
    "\n",
    "after which point, any of the attributes of the library are referenced using `np.`\n",
    "\n"
   ]
  },
  {
   "cell_type": "markdown",
   "metadata": {},
   "source": [
    "### Array creation\n",
    "\n",
    "To create a numpy array the `np.array` constructor is used."
   ]
  },
  {
   "cell_type": "code",
   "execution_count": null,
   "metadata": {},
   "outputs": [],
   "source": [
    "import numpy as np\n",
    "a = np.array( (100, 101, 102, 103) )\n",
    "a\n",
    "b = np.array( [[1.,2.], [3.,4.]] )\n",
    "b"
   ]
  },
  {
   "cell_type": "markdown",
   "metadata": {},
   "source": [
    "To reference a NumPy array, the indexing is done using a `tuple`. Recall that tuple brackets are often assumed and almost never used referencing NumPy arrays.\n",
    "\n",
    "** Note that this is *different* to indexing the other iterable objects in Python we have seen so far.**\n",
    "\n",
    "The indexing runs from zero as usual.\n",
    "\n",
    "**Note that NumPy array elements are stored in sequential row-major order. This means that increasing the *right-most* index by one moves from one element to it's adjacent neighbour in the computer memory.**\n"
   ]
  },
  {
   "cell_type": "code",
   "execution_count": null,
   "metadata": {},
   "outputs": [],
   "source": [
    "b[1,1]\n",
    "b[(1,1)] # same thing but never used"
   ]
  },
  {
   "cell_type": "markdown",
   "metadata": {},
   "source": [
    "The type of the array is either\n",
    "*  *assumed* from the assigned values - in this case the least general type that acommodates all the assigned values is used,"
   ]
  },
  {
   "cell_type": "code",
   "execution_count": null,
   "metadata": {},
   "outputs": [],
   "source": [
    "b=np.array( [[1,2], [3,4.]] )\n",
    "b\n",
    "type(b[0,0])"
   ]
  },
  {
   "cell_type": "markdown",
   "metadata": {},
   "source": [
    "* or set using the optional `dtype` argument."
   ]
  },
  {
   "cell_type": "code",
   "execution_count": null,
   "metadata": {},
   "outputs": [],
   "source": [
    "b=np.array( [[1,2], [3,4.]] )\n",
    "type(b[0,0])"
   ]
  },
  {
   "cell_type": "code",
   "execution_count": null,
   "metadata": {},
   "outputs": [],
   "source": [
    "b=np.array( [[1,2], [3,4.]],dtype=complex)\n",
    "b\n",
    "type(b[0,0])"
   ]
  },
  {
   "cell_type": "markdown",
   "metadata": {},
   "source": [
    "### Other ways to create an array with dimensions $a\\times b\\times c$\n",
    "\n",
    "* `np.empty((a,b,c)` creates an empty array  \n",
    "* `np.ones((a,b,c))` creates a float array filled with ones (`dtype` may be set optionally)\n",
    "* `np.zeros((a,b,c))` as above, but filled with zeros"
   ]
  },
  {
   "cell_type": "code",
   "execution_count": null,
   "metadata": {},
   "outputs": [],
   "source": [
    "np.empty((2,2))\n",
    "np.ones((2,2))\n",
    "np.zeros((2,2))"
   ]
  },
  {
   "cell_type": "markdown",
   "metadata": {},
   "source": [
    "### Setting an array to sequence of values using `np.linspace`\n",
    "\n",
    "Very often when you carry out computational approximations to solutions of problems, you will represent values at *discrete* values. When doing this, either for calculations or plotting, the `np.linspace` function is very common.\n",
    "\n",
    "The function takes arguments for starting value, end value, and the number of values evenly spaced between **and including** the start and end points."
   ]
  },
  {
   "cell_type": "code",
   "execution_count": null,
   "metadata": {},
   "outputs": [],
   "source": [
    "a=np.linspace(0,10,5)\n",
    "a"
   ]
  },
  {
   "cell_type": "markdown",
   "metadata": {},
   "source": [
    "`np.linspace` can also be instructed to return the interval size using the optional keyword `retstep` and setting its value to `True`"
   ]
  },
  {
   "cell_type": "code",
   "execution_count": null,
   "metadata": {},
   "outputs": [],
   "source": [
    "a,dx=np.linspace(0,10,5,retstep=True)\n",
    "a\n",
    "dx"
   ]
  },
  {
   "cell_type": "markdown",
   "metadata": {
    "collapsed": true
   },
   "source": [
    "### Initializing from a function \n",
    "\n",
    "If you want to initialise an array where the values of each element are some function of the indices, you can do this using the `np.fromfunction` method with any function (including a lambda function if it is simple).\n"
   ]
  },
  {
   "cell_type": "code",
   "execution_count": null,
   "metadata": {},
   "outputs": [],
   "source": [
    "#using user defined function\n",
    "def f(i, j):\n",
    "    return 2*i*j\n",
    "np.fromfunction(f,(4,3))\n",
    "\n",
    "#using lambda function\n",
    "np.fromfunction(lambda i,j: 2*i*j, (4,3))"
   ]
  },
  {
   "cell_type": "markdown",
   "metadata": {
    "collapsed": true
   },
   "source": [
    "### `ndarray` attributes\n",
    "\n",
    "|  Attribute|  Description     |\n",
    "|----|--------|\n",
    "|shape |The array dimensions: the size of the array along each of its axes, returned as a tuple of integers|\n",
    "|ndim |Number of axes (dimensions). Note that `ndim == len(shape)`|\n",
    "|size |The total number of elements in the array, equal to the product of the elements of shape|\n",
    "|dtype |The array's data type|\n",
    "|data |The \"buffer\" in memory containing the actual elements of the array|\n",
    "|itemsize |The size in bytes of each element|\n"
   ]
  },
  {
   "cell_type": "code",
   "execution_count": null,
   "metadata": {},
   "outputs": [],
   "source": [
    "a=np.zeros((2,2))\n",
    "a.shape\n",
    "a.ndim\n",
    "a.dtype"
   ]
  },
  {
   "cell_type": "markdown",
   "metadata": {
    "collapsed": true
   },
   "source": [
    "### Universal functions\n",
    "\n",
    "NumPy has its own class of function objects of type `ufunc`. These *universal functions* are used for varrying out **vectorized** operations elementwise over arrays and as such are different to `math` module functions even though the methods themselves may have the same name.\n",
    "\n",
    "\n",
    "**NB. The default behaviour for NumPy operations is *elementwise* operations.** For example, if you multiply arrays using the usual multiplication operator `*`, you *do not* get a matrix type product but instead corresponding elements being multiplied. To get matrix-type multiplication you should use `np.dot` instead.\n"
   ]
  },
  {
   "cell_type": "code",
   "execution_count": null,
   "metadata": {},
   "outputs": [],
   "source": [
    "a=np.fromfunction(lambda i,j: 2*i*j, (4,4))\n",
    "b=np.ones((4,4))\n",
    "\n",
    "type(np.sqrt)\n",
    "np.sqrt(a)\n",
    "\n",
    "a*b\n",
    "a.dot(b)\n",
    "\n",
    "a>b\n"
   ]
  },
  {
   "cell_type": "markdown",
   "metadata": {},
   "source": [
    "### Logic and comparisons\n",
    "\n",
    "There are additional methods which may be used to perform elementwise testing on NumPy arrays.\n",
    "\n",
    "|  Function|  Description     |\n",
    "|----|--------|\n",
    "|`np.all(a)` |Determine whether all array elements of a evaluate to True.|\n",
    "|`np.any(a)` |Determine whether any array element of a evaluates to True.|\n",
    "|`np.isreal(a)` |Determine whether each element of array a is real.|\n",
    "|`np.iscomplex(a)` |Determine whether each element of array a is a complex number.|\n",
    "|`np.isclose(a,b)` |Return a boolean array of the comparison between arrays a and b for equality to some tolerance.|\n",
    "|`np.allclose(a,b)` |Return a True if all the elements in the arrays a and b are equal to within some tolerance.|"
   ]
  },
  {
   "cell_type": "code",
   "execution_count": null,
   "metadata": {},
   "outputs": [],
   "source": [
    "a = np.array([[1, 2, 0, 3], [4, 0, 1, 1]])\n",
    "np.any(a), np.all(a)\n",
    "\n",
    "b = np.array([1, -1j, 0.5j, 0, 1-2.5j])\n",
    "np.isreal(b)\n",
    "np.iscomplex(b)"
   ]
  },
  {
   "cell_type": "markdown",
   "metadata": {},
   "source": [
    "### Maximum and minimum value methods\n",
    "\n",
    "The maximum and minimum values in arrays may also be queried using the methods `max` and `min` respectively.\n"
   ]
  },
  {
   "cell_type": "code",
   "execution_count": null,
   "metadata": {},
   "outputs": [],
   "source": [
    "a = np.array([[3, 0, -1, 1], [2, -1, -2, 4], [1, 7, 0, 4]])\n",
    "a.min() \n",
    "a.max()"
   ]
  },
  {
   "cell_type": "markdown",
   "metadata": {
    "collapsed": true
   },
   "source": [
    "### `nan` and `inf`\n",
    "\n",
    "If a calculation results in an ill-defined result it is often reported by NumPy as `np.nan` for *not a number* or `np.inf` for an *infinite* value.\n",
    "\n",
    "When this occurs, the interpreter may provide a warning - which, unlike an error, does not mean the computation has failed, but simply tells you that it thinks something *may* be unintended.\n",
    "\n",
    "You can check for these ill-defined values in your data using `npisnan`, `np.isinf`, and `np.isfinite`\n"
   ]
  },
  {
   "cell_type": "code",
   "execution_count": null,
   "metadata": {},
   "outputs": [],
   "source": [
    "a = np.arange(4)\n",
    "b=a/0 # [0/0 1/0 2/0 3/0]\n",
    "b\n",
    "\n",
    "print('Checking if elements of a are finite:',np.isfinite(a))\n",
    "print('Checking if elements of b are nans:',np.isnan(b))\n"
   ]
  },
  {
   "cell_type": "markdown",
   "metadata": {
    "collapsed": true
   },
   "source": [
    "### Example: Magic square\n",
    "\n",
    "A magic square is an $N \\times N$ grid of numbers in which the entries in each row, column and main diagonal sum to the same number (equal to $N(N^2 + 1)/2$).\n",
    "\n",
    "A method for constructing a magic square for odd N is as follows:\n",
    "\n",
    "1. Start in the middle of the top row, and let $n = 1$;\n",
    "* Insert n into the current grid position;\n",
    "* If $n = N^2$ the grid is complete so stop. Otherwise, increment $n$;\n",
    "* Move diagonally up and right, wrapping to the first column or last row if the move leads outside the grid. If this cell is already filled, move vertically down one space instead;\n",
    "* Return to step 2.\n",
    "\n",
    "The following program creates and displays a magic square."
   ]
  },
  {
   "cell_type": "code",
   "execution_count": null,
   "metadata": {},
   "outputs": [],
   "source": [
    "# Create an N x N magic square. N must be odd.\n",
    "\n",
    "import numpy as np\n",
    "\n",
    "N = 5\n",
    "magic_square = np.zeros((N,N), dtype=int)\n",
    "\n",
    "n = 1\n",
    "i, j = 0, N//2\n",
    "\n",
    "while n <= N**2:\n",
    "    magic_square[i, j] = n\n",
    "    n += 1\n",
    "    newi, newj = (i-1) % N, (j+1)% N\n",
    "    if magic_square[newi, newj]:\n",
    "        i += 1\n",
    "    else:\n",
    "        i, j = newi, newj\n",
    "\n",
    "print(magic_square)"
   ]
  },
  {
   "cell_type": "markdown",
   "metadata": {
    "collapsed": true
   },
   "source": [
    "### Merging and splitting arrays\n",
    "\n",
    "The following methods are used to merge and split arrays:\n",
    "\n",
    "* `np.vstack` stacks arrays vertically (in sequential rows)\n",
    "* `np.hstack` stacks arrays horizontally (in sequential columns)\n",
    "* `np.dstack` stacks arrays depthwise (along a third axis)\n",
    "* `np.vsplit` split a single array into multiple arrays by rows\n",
    "* `np.hsplit` split a single array into multiple arrays by columns\n",
    "* `np.dsplit` split a single array into multiple arrays by depth\n"
   ]
  },
  {
   "cell_type": "code",
   "execution_count": null,
   "metadata": {},
   "outputs": [],
   "source": [
    "a= np.array([0, 0, 0, 0])\n",
    "b = np.array([1, 1, 1, 1])\n",
    "c = np.array([2, 2, 2, 2])\n",
    "np.vstack((a,b,c))\n",
    "np.hstack((a,b,c))\n",
    "np.dstack((a,b,c))"
   ]
  },
  {
   "cell_type": "markdown",
   "metadata": {
    "collapsed": true
   },
   "source": [
    "### Indexing and slicing\n",
    "\n",
    "NumPy arrays can be indexed and sliced in a similar way to the iterable objects we encountered before.\n",
    "\n",
    "If you want to include *every* item on a particular axis, you can use a colon in the relevant index position.\n"
   ]
  },
  {
   "cell_type": "code",
   "execution_count": null,
   "metadata": {},
   "outputs": [],
   "source": [
    "a = np.linspace(1,12,12).reshape(4,3)\n",
    "a\n",
    "a[3, 1]\n",
    "a[2, :] # everything in the third row\n",
    "a[:, 1] # everything in the second column\n",
    "a[1:-1, 1:] # middle rows, second column onwards"
   ]
  },
  {
   "cell_type": "markdown",
   "metadata": {
    "collapsed": true
   },
   "source": [
    "### Meshes\n",
    "\n",
    "If you need to represent a solution to a problem on a grid of points, `np.meshgrid` can be used to create a set of $N$-dimensional arrays comprising a mesh of coordinates at which the function can be evaluated. The function requires a series of $N$ one-dimensional arrays representing\n",
    "coordinates along each dimension.\n"
   ]
  },
  {
   "cell_type": "code",
   "execution_count": null,
   "metadata": {},
   "outputs": [],
   "source": [
    "x = np.linspace(0, 2, 5)\n",
    "y = np.linspace(0, 1, 6)\n",
    "X, Y = np.meshgrid(x, y)\n",
    "X\n",
    "Y"
   ]
  },
  {
   "cell_type": "markdown",
   "metadata": {
    "collapsed": true
   },
   "source": [
    "### Using `ndarray` objects as matrices and vectors\n",
    "\n",
    "We will see later that there is a special class of NumPy object of type `np.matrix` which is designed for linear algebra. However, basic NumPy arrays can also be used for simple operations.\n",
    "\n",
    "The `transpose` method, or alternativeely the `T` attribute, may be used to transpose an array.\n",
    "\n",
    "One-dimensional row arrays may be considered as vectors. The dot product may be taken using the `dot` method, and the cross product may be taken using the `cross` method."
   ]
  },
  {
   "cell_type": "code",
   "execution_count": null,
   "metadata": {},
   "outputs": [],
   "source": [
    "a=np.fromfunction(lambda i,j: 2*i*j, (4,4))\n",
    "a\n",
    "a.transpose()\n",
    "a.T\n",
    "\n",
    "\n",
    "a = np.array([1, 0, -3]) \n",
    "b = np.array([2, -2, 5])\n",
    "a.dot(b)  \n",
    "np.dot(a,b) #same\n",
    "np.cross(a, b)"
   ]
  },
  {
   "cell_type": "markdown",
   "metadata": {
    "collapsed": true
   },
   "source": [
    "## CA (6 marks)\n",
    "\n",
    "The shoelace algorithm for calculating the area of a simple polygon (that is, one without holes or self-intersections) proceeds as follows: Write down the $(x, y)$ coordinates of the $N$ vertices in an $N \\times 2$ array and then repeat the coordinates of the first vertex as the last row to make an $(N + 1) \\times 2$ array. \n",
    "\n",
    "1. Multiply each $x$-coordinate value in the first $N$ rows by the $y$-coordinate value in the next row down and take the sum, $S_1 = x_1y_2 + x_2y_3 +\\ldots+x_{N-1}y_N+x_Ny_1$;\n",
    "\n",
    "* Multiply each $y$-coordinate value in the first $N$ rows by the $x$-coordinate in the next row down and take the sum, $S_2 = y_1x_2 + y_2x_3 +\\ldots+y_{N-1}x_N+y_Nx_1$. The area of the polygon is then $\\frac{1}{2}|S_1 − S_2|$.\n",
    "\n",
    "Implement this algorithm as a function called `polygon` that takes a NumPy array of vertices as its argument and returns the area of the polygon **without using loops**.\n",
    "\n",
    "When you have defined and your function in the cell below, run the cell **before** running the CA cell underneath."
   ]
  },
  {
   "cell_type": "code",
   "execution_count": null,
   "metadata": {},
   "outputs": [],
   "source": [
    "# define your function called polygon here and run this cell BEFORE running the CA cell below\n"
   ]
  },
  {
   "cell_type": "code",
   "execution_count": null,
   "metadata": {},
   "outputs": [],
   "source": [
    "#run this cell to submit your function\n",
    "vr.a8(polygon)"
   ]
  },
  {
   "cell_type": "markdown",
   "metadata": {},
   "source": [
    "## Writing NumPy arrays to file\n",
    "\n",
    "Writing a NumPy array `a` in a *binary* format to a file called `data.npy` you may use\n",
    "\n",
    "``\n",
    "    np.save('data.npy', a)\n",
    "``\n",
    "\n",
    "An array may be read in and bound to the variable `a` using \n",
    "\n",
    "``\n",
    "    b = np.load('data.npy')\n",
    "``"
   ]
  },
  {
   "cell_type": "code",
   "execution_count": null,
   "metadata": {},
   "outputs": [],
   "source": [
    "a=np.fromfunction(lambda i,j: 2*i*j, (8,8))\n",
    "print(a)\n",
    "np.save('data.npy', a)\n",
    "b = np.load('data.npy')\n",
    "print(b)"
   ]
  },
  {
   "cell_type": "code",
   "execution_count": null,
   "metadata": {},
   "outputs": [],
   "source": []
  }
 ],
 "metadata": {
  "kernelspec": {
   "display_name": "Python 3",
   "language": "python",
   "name": "python3"
  },
  "language_info": {
   "codemirror_mode": {
    "name": "ipython",
    "version": 3
   },
   "file_extension": ".py",
   "mimetype": "text/x-python",
   "name": "python",
   "nbconvert_exporter": "python",
   "pygments_lexer": "ipython3",
   "version": "3.8.6"
  }
 },
 "nbformat": 4,
 "nbformat_minor": 1
}
