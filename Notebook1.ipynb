{
 "cells": [
  {
   "cell_type": "markdown",
   "metadata": {},
   "source": [
    "# DT205/220/1 \n",
    "## MATH1810\n",
    "## Introduction to Scientific Python\n",
    "\n",
    "## Notebook1"
   ]
  },
  {
   "cell_type": "markdown",
   "metadata": {
    "collapsed": true
   },
   "source": [
    "## Reminder: running your notebook\n",
    "\n",
    "Reminder: For every notebook, you need to *execute* each cell one after the other so that your kernel knows what is there. If you don't do this you have not *told* the kernel what is in the cell and it will be confused later on.\n",
    "\n",
    "To do this is simple, click on the first cell, then use `Shift-Enter` or press the <button class='btn btn-default btn-xs'><i class=\"icon-step-forward fa fa-step-forward\"></i></button> button in the toolbar above. You can just do this repeatedly to move down throught the notebook.\n",
    "\n",
    "**If you try running code with errors, you may find that the notebook behaves strangely afterwards, if this happens, you can restart the kernel by Choosing `Restart and Clear Output` from the `Kernel` menu above.**"
   ]
  },
  {
   "cell_type": "markdown",
   "metadata": {},
   "source": [
    "## Setting up class notebooks\n",
    "\n",
    "Every notebook you use for this module needs to be set up. You don't need to worry about how this works for now, other that it is important you run the cell below before carrying on.\n",
    "\n",
    "Try this now. You should see the message *Setup complete* within a few seconds.\n",
    "(Don't worry about it if another message appears as well.)\n",
    "\n",
    "If nothing happens within 20 seconds click the <button class='btn btn-default btn-xs'><i class=\"icon-step-forward fa fa-stop\"></i></button> button in the toolbar and then use `Shift-Enter` to try running the cell again.\n"
   ]
  },
  {
   "cell_type": "code",
   "execution_count": 1,
   "metadata": {},
   "outputs": [
    {
     "name": "stdout",
     "output_type": "stream",
     "text": [
      "\n",
      "Setup complete\n"
     ]
    }
   ],
   "source": [
    "%run ./.setup.ipynb"
   ]
  },
  {
   "cell_type": "markdown",
   "metadata": {},
   "source": [
    "## CA (2 marks)\n",
    "\n",
    "At various points, you will be asked to try things out in class. Sometimes, these tasks will contribute to your continuous assessment for the module.\n",
    "\n",
    "\n",
    "1. When a component contributes to your continuous assessment, it will be indicated by **CA** and will require running a cell with a `vr` function in it.\n",
    "* Your progress with these tasks is **automatically recorded** and will contribute to your final grade. Take your time and read what is being asked carefully. \n",
    "* There is no timelimit on answering (within the limits of the lab class).\n",
    "* Each incorrect attempt will cause you to lose 10% of the marks for the task.\n",
    "* You may have to wait between entering answers. This is to discourage guessing.\n",
    "* Your **FIRST** correct answer is recorded. You can play around with the task after this without losing any marks for incorrect answers.\n",
    "* Each student may have a different question, so do not copy from your neighbour!\n",
    "\n",
    "There may be other types of task such as take home problems etc. which you will be told about in class.\n",
    "\n",
    "To get you started, here is a very simple task component. It does count so put in the right answer.\n"
   ]
  },
  {
   "cell_type": "code",
   "execution_count": 2,
   "metadata": {},
   "outputs": [
    {
     "data": {
      "text/markdown": [
       "**CA** (2%)"
      ],
      "text/plain": [
       "<IPython.core.display.Markdown object>"
      ]
     },
     "metadata": {},
     "output_type": "display_data"
    },
    {
     "name": "stdout",
     "output_type": "stream",
     "text": [
      "6 + 3\n",
      "Please enter your answer here: 9\n",
      "Well done, right answer is  9\n",
      "First success after  1  tries, you have  100 % on this exercise.\n"
     ]
    }
   ],
   "source": [
    "vr.a1()"
   ]
  },
  {
   "cell_type": "markdown",
   "metadata": {
    "collapsed": true
   },
   "source": [
    "\n",
    "## Next Notebook\n",
    "\n",
    "*Once you are told that it is available*, you can open Notebook2 by going to `File`, selecting `Open`, and clicking on `Notebook2.ipynb` (or you can just click here on <a href=\"Notebook2.ipynb\">Notebook2</a>). \n"
   ]
  }
 ],
 "metadata": {
  "kernelspec": {
   "display_name": "Python 3",
   "language": "python",
   "name": "python3"
  },
  "language_info": {
   "codemirror_mode": {
    "name": "ipython",
    "version": 3
   },
   "file_extension": ".py",
   "mimetype": "text/x-python",
   "name": "python",
   "nbconvert_exporter": "python",
   "pygments_lexer": "ipython3",
   "version": "3.8.5"
  }
 },
 "nbformat": 4,
 "nbformat_minor": 1
}
