{
 "cells": [
  {
   "cell_type": "markdown",
   "metadata": {},
   "source": [
    "# DT205/220/1 \n",
    "## MATH1810\n",
    "## Introduction to Scientific Python\n",
    "\n",
    "## Welcome and guide to using Jupyter Notebooks with Python3"
   ]
  },
  {
   "cell_type": "markdown",
   "metadata": {},
   "source": [
    "# Introduction\n",
    "\n",
    "The environment through which much of your work will be carried out for the module will be Jupyter Notebooks on the https://somstudublin.ie server.\n",
    "\n",
    "You will be provided with your own copies of a sequence of Jupyter Notebooks, similar to this one.\n",
    "\n",
    "These notebooks contain explanatory text and executable code in Python3 which you will be able to use to demonstrate the content of the notebooks.\n",
    "\n",
    "Read the Overview for the module on Brightspace for details on accessing your account and using Jupyter Notebooks."
   ]
  },
  {
   "cell_type": "markdown",
   "metadata": {},
   "source": [
    "# Reference text\n",
    "\n",
    "The main reference text for this module is:\n",
    "\n",
    "#### C. Hill, 2016, Learning Scientific Programming with Python, CUP\n",
    "\n",
    "It would be very useful to you to have a copy of this textbook.\n"
   ]
  },
  {
   "cell_type": "markdown",
   "metadata": {},
   "source": [
    "\n",
    "# Using the Jupyter Notebooks\n",
    "\n",
    "Each Jupyter Notebook is an interactive environment for writing and running code. \n",
    "\n",
    "I will distribute new notebooks to your accounts as required. \n",
    "\n",
    "#### Note that the notebooks you are working on are your own copies.  You should make sure to save any changes you make by using `Shift-S` or pressing the <button class='btn btn-default btn-xs'><i class=\"icon-save fa fa-save\"></i></button> in the toolbar above. \n",
    "\n",
    "It is a good idea to save a copy of the original file to your account before doing anything else. If you \"break\" the notebook you can make another copy from the original to start over. \n",
    "\n",
    "You may also create your own notebooks by going to `File` then `New Notebook` and choosing the `Python 3` option. You may give your new notebook a suitable name by going to `File` and choosing the `Rename` option. Make sure to save your work frequently. \n",
    "\n",
    "Each cell in your Jupyter notebook should be of the type `Code` or `Markdown`. The default type is `Code` which is appropriate for Python code. If you wish to enter text and equations you need to go to the dropdown menu and change the type of the cell to `Markdown`.\n",
    "\n",
    "In `Markdown` cells, text is entered directly and heading can be made using the # symbol, or multiple # symbols for smaller headings. Equations are entered using LaTeX. \n",
    "\n",
    "You may view to raw code or markdown text in a cell by double clicking on it. \n"
   ]
  },
  {
   "cell_type": "markdown",
   "metadata": {},
   "source": [
    "## Code cells allow you to enter and run code"
   ]
  },
  {
   "cell_type": "markdown",
   "metadata": {},
   "source": [
    "Run a code cell using `Shift-Enter` or pressing the <button class='btn btn-default btn-xs'><i class=\"icon-step-forward fa fa-step-forward\"></i></button> button in the toolbar above:"
   ]
  },
  {
   "cell_type": "code",
   "execution_count": null,
   "metadata": {},
   "outputs": [],
   "source": [
    "a = 10"
   ]
  },
  {
   "cell_type": "code",
   "execution_count": null,
   "metadata": {},
   "outputs": [],
   "source": [
    "print(a)"
   ]
  },
  {
   "cell_type": "markdown",
   "metadata": {},
   "source": [
    "There are two other keyboard shortcuts for running code:\n",
    "\n",
    "* `Alt-Enter` runs the current cell and inserts a new one below.\n",
    "* `Ctrl-Enter` run the current cell and enters command mode."
   ]
  },
  {
   "cell_type": "markdown",
   "metadata": {},
   "source": [
    "## Managing the Kernel"
   ]
  },
  {
   "cell_type": "markdown",
   "metadata": {},
   "source": [
    "Code is run in a separate process called the Kernel.  The Kernel can be interrupted or restarted.  Try running the following cell and then hit the <button class='btn btn-default btn-xs'><i class='icon-stop fa fa-stop'></i></button> button in the toolbar above."
   ]
  },
  {
   "cell_type": "code",
   "execution_count": null,
   "metadata": {},
   "outputs": [],
   "source": [
    "import time\n",
    "time.sleep(10)"
   ]
  },
  {
   "cell_type": "markdown",
   "metadata": {},
   "source": [
    "If the Kernel dies you will be prompted to restart it."
   ]
  },
  {
   "cell_type": "markdown",
   "metadata": {},
   "source": [
    "## Cell menu"
   ]
  },
  {
   "cell_type": "markdown",
   "metadata": {},
   "source": [
    "The \"Cell\" menu has a number of menu items for running code in different ways. These includes:\n",
    "\n",
    "* Run and Select Below\n",
    "* Run and Insert Below\n",
    "* Run All\n",
    "* Run All Above\n",
    "* Run All Below"
   ]
  },
  {
   "cell_type": "markdown",
   "metadata": {},
   "source": [
    "## Restarting the kernels"
   ]
  },
  {
   "cell_type": "markdown",
   "metadata": {},
   "source": [
    "The kernel maintains the state of a notebook's computations. You can reset this state by restarting the kernel. This is done by clicking on the <button class='btn btn-default btn-xs'><i class='fa fa-repeat icon-repeat'></i></button> in the toolbar above."
   ]
  },
  {
   "cell_type": "markdown",
   "metadata": {},
   "source": [
    "## sys.stdout and sys.stderr"
   ]
  },
  {
   "cell_type": "markdown",
   "metadata": {},
   "source": [
    "The stdout and stderr streams are displayed as text in the output area."
   ]
  },
  {
   "cell_type": "code",
   "execution_count": null,
   "metadata": {},
   "outputs": [],
   "source": [
    "print(\"hi, stdout\")"
   ]
  },
  {
   "cell_type": "code",
   "execution_count": null,
   "metadata": {},
   "outputs": [],
   "source": [
    "import sys\n",
    "from __future__ import print_function\n",
    "print('hi, stderr', file=sys.stderr)"
   ]
  },
  {
   "cell_type": "markdown",
   "metadata": {},
   "source": [
    "## Output is asynchronous"
   ]
  },
  {
   "cell_type": "markdown",
   "metadata": {},
   "source": [
    "All output is displayed asynchronously as it is generated in the Kernel. If you execute the next cell, you will see the output one piece at a time, not all at the end."
   ]
  },
  {
   "cell_type": "code",
   "execution_count": null,
   "metadata": {},
   "outputs": [],
   "source": [
    "import time, sys\n",
    "for i in range(8):\n",
    "    print(i)\n",
    "    time.sleep(0.5)"
   ]
  },
  {
   "cell_type": "markdown",
   "metadata": {},
   "source": [
    "## Large outputs"
   ]
  },
  {
   "cell_type": "markdown",
   "metadata": {},
   "source": [
    "To better handle large outputs, the output area can be collapsed. Run the following cell and then single- or double- click on the active area to the left of the output:"
   ]
  },
  {
   "cell_type": "code",
   "execution_count": null,
   "metadata": {},
   "outputs": [],
   "source": [
    "for i in range(50):\n",
    "    print(i)"
   ]
  },
  {
   "cell_type": "markdown",
   "metadata": {},
   "source": [
    "Beyond a certain point, output will scroll automatically:"
   ]
  },
  {
   "cell_type": "code",
   "execution_count": null,
   "metadata": {},
   "outputs": [],
   "source": [
    "for i in range(50):\n",
    "    print(2**i - 1)"
   ]
  },
  {
   "cell_type": "markdown",
   "metadata": {},
   "source": [
    "# Input\n",
    "\n",
    "Input can also be handled, simply, as in this case, or via widgets."
   ]
  },
  {
   "cell_type": "code",
   "execution_count": null,
   "metadata": {},
   "outputs": [],
   "source": [
    "name = input(\"What is your name? \")\n",
    "print (name)"
   ]
  },
  {
   "cell_type": "markdown",
   "metadata": {
    "collapsed": true
   },
   "source": [
    "# Python3 (not Python2.7)\n",
    "\n",
    "There are many other excellent tutorials available online but be careful that if you do use any of these that they describe Python3, the differences between Python3 and Python2.7 are mostly minor but it's better to avoid any possible confusion by sticking with Python3. Many of these resources are listed on this <a href=\"https://github.com/ipython/ipython/wiki/A-gallery-of-interesting-IPython-Notebooks\">github catalogue</a>.\n",
    "\n",
    "Some of these resources include excellent videos. In particular, I recommend Mark Bakker's <a href=\"http://mbakker7.github.io/exploratory_computing_with_python\">videos</a>.\n",
    "\n",
    "\n"
   ]
  },
  {
   "cell_type": "markdown",
   "metadata": {},
   "source": [
    "## Looking forward\n",
    "\n",
    "Python is an exceptionally useful tool for mathematics and a highly sought-after skill in many areas of industry. You will encounter Python again on your studies and so should consider this module as a foundation for further learning with Python. For this reason, it is important you keep me informed of any difficulties you might be having so that we can work to resolve them as quickly as possible. I'm happy to talk to you after class, or if you would prefer to email me (stephen.osullivan@TUDublin.ie), or go through your class rep, this is fine too.\n"
   ]
  },
  {
   "cell_type": "markdown",
   "metadata": {
    "collapsed": true
   },
   "source": [
    "## Next Notebook\n",
    "\n",
    "You can now open Notebook1 by going to `File`, selecting `Open`, and clicking on `Notebook1.ipynb` (or you can just click here on <a href=\"Notebook1.ipynb\">Notebook1</a>). \n"
   ]
  },
  {
   "cell_type": "code",
   "execution_count": null,
   "metadata": {},
   "outputs": [],
   "source": []
  }
 ],
 "metadata": {
  "kernelspec": {
   "display_name": "Python 3",
   "language": "python",
   "name": "python3"
  },
  "language_info": {
   "codemirror_mode": {
    "name": "ipython",
    "version": 3
   },
   "file_extension": ".py",
   "mimetype": "text/x-python",
   "name": "python",
   "nbconvert_exporter": "python",
   "pygments_lexer": "ipython3",
   "version": "3.8.5"
  }
 },
 "nbformat": 4,
 "nbformat_minor": 1
}
