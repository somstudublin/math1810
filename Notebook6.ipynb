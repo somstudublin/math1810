{
 "cells": [
  {
   "cell_type": "markdown",
   "metadata": {
    "collapsed": true
   },
   "source": [
    "# DT205/220/1 \n",
    "## MATH1810\n",
    "## Introduction to Scientific Python\n",
    "\n",
    "## Notebook 6\n",
    "\n",
    "## File handling\n",
    "\n",
    "This notebook follows Section 2.6 of Hill."
   ]
  },
  {
   "cell_type": "code",
   "execution_count": 1,
   "metadata": {},
   "outputs": [
    {
     "name": "stdout",
     "output_type": "stream",
     "text": [
      "\n",
      "Setup complete\n"
     ]
    }
   ],
   "source": [
    "%run ./.setup.ipynb"
   ]
  },
  {
   "cell_type": "markdown",
   "metadata": {},
   "source": [
    "## `file` object type\n",
    "\n",
    "The Python interpeter uses an object of type `file` to handle files. The `open` function is used to bind a variable name to a `file` object and in the process create a file with a given name on the filesystem in a given mode. The available modes are listed in the table below. \n",
    "\n",
    "|mode argument | Open mode |\n",
    "|----|--------|\n",
    "|r |text, read-only (the default)|\n",
    "|w |text, write (an existing file with the same name will be overwritten)|\n",
    "|a |text, append to an existing file|\n",
    "|r+ |text, reading and writing|\n",
    "|rb |binary, read-only|\n",
    "|wb |binary, write (an existing file with the same name will be overwritten)|\n",
    "|ab |binary, append to an existing file|\n",
    "|rb+ |binary, reading and writing|\n",
    "\n",
    "\n",
    "**Note that some of these modes will destroy any data in an existing file. ** This can be useful if you want to *start over* with data, however, if you accidentally reuse a filename when opening in one of these modes, you will lose any data stored there.\n",
    "\n",
    "\n",
    "The `open` function takes two string arguments, the file name, and the file mode. The syntax for opening a new file called `myfile.txt` in write mode is shown below. \n",
    "\n",
    "The `close` method is used to close a file when you are done. It is good practice to close a file as soon as you have finished using it (it is possible to repoen again if necessary) as this will ensure your data is safely written to disk should anything go wrong with your program."
   ]
  },
  {
   "cell_type": "code",
   "execution_count": 2,
   "metadata": {},
   "outputs": [
    {
     "data": {
      "text/plain": [
       "_io.TextIOWrapper"
      ]
     },
     "execution_count": 2,
     "metadata": {},
     "output_type": "execute_result"
    }
   ],
   "source": [
    "f = open('myfile.txt', 'w')\n",
    "type(f)\n",
    "f.close()"
   ]
  },
  {
   "cell_type": "markdown",
   "metadata": {},
   "source": [
    "### Writing data to a file\n",
    "\n",
    "Data can be written to a file using the `write` method for a string - which returns the number of characters written.\n"
   ]
  },
  {
   "cell_type": "code",
   "execution_count": 3,
   "metadata": {},
   "outputs": [
    {
     "data": {
      "text/plain": [
       "12"
      ]
     },
     "execution_count": 3,
     "metadata": {},
     "output_type": "execute_result"
    }
   ],
   "source": [
    "f = open('myfile.txt', 'w')\n",
    "f.write('Hello world\\n')\n",
    "f.close()"
   ]
  },
  {
   "cell_type": "markdown",
   "metadata": {},
   "source": [
    "A more flexible approach to writing data to file is to use the `print` function. This is done as we have previously discussed, with the addition of an argument specifying the `file` object to use for writing to. (Recall that by default the `print` function goes onto a new line after outputting - unlike the `write` function in which we explicitly included a newline special character.)\n"
   ]
  },
  {
   "cell_type": "code",
   "execution_count": 4,
   "metadata": {},
   "outputs": [],
   "source": [
    "f = open('myfile.txt', 'a')\n",
    "print('Hello world2 HAT',file=f)\n",
    "f.close()"
   ]
  },
  {
   "cell_type": "markdown",
   "metadata": {},
   "source": [
    "### Reading lines from a file\n",
    "\n",
    "It is very straightforward to read lines one after another from a file using the iterable property of `file` objects. \n",
    "**Note that each line in a file has its own newline character, so to avoid getting a second newline when printing, we use `end=''` in the `print` statement below. **\n"
   ]
  },
  {
   "cell_type": "code",
   "execution_count": 5,
   "metadata": {},
   "outputs": [
    {
     "name": "stdout",
     "output_type": "stream",
     "text": [
      "Hello world\n",
      "Hello world2 HAT\n"
     ]
    }
   ],
   "source": [
    "f = open('myfile.txt', 'r')\n",
    "counter=0\n",
    "for myline in f:\n",
    "    print(myline,end='')\n",
    "    counter+=1\n",
    "    if counter==4:\n",
    "        print('4th line:',myline)\n",
    "f.close()"
   ]
  },
  {
   "cell_type": "markdown",
   "metadata": {},
   "source": [
    "### In-class exercise\n",
    "\n",
    "The coast redwood tree species, *Sequoia sempervirens*, includes some of the oldest and tallest living organisms on Earth. Some details concerning individual trees are given in the tab-delimited text file `redwood-data.txt` (If you accidentally damage your copy of the datafile, you can download from Brightspace, then upload to your Jupyter server account.)\n",
    "\n",
    "\n",
    "\n",
    "Write a Python program to read in this data and report the tallest tree and the tree with the greatest diameter.\n"
   ]
  },
  {
   "cell_type": "markdown",
   "metadata": {},
   "source": [
    "## Break-out room task\n",
    "\n",
    "Work on getting the code below to work for the small number of lines shown only.\n",
    "If you are feeling brave, I will offer you the chance to present your code and talk through it but no pressure.\n",
    "\n",
    "**Put any questions in chat**"
   ]
  },
  {
   "cell_type": "code",
   "execution_count": 46,
   "metadata": {},
   "outputs": [
    {
     "name": "stdout",
     "output_type": "stream",
     "text": [
      "Tallest: Hyperion 115.61\n",
      "Widest: Stratosphere Giant 5.18\n"
     ]
    }
   ],
   "source": [
    "# Write your tree program here\n",
    "f = open('redwood-data.txt', 'r')\n",
    "counter=0\n",
    "maxheight=-1.0\n",
    "maxwidth=-1.0\n",
    "for myline in f:\n",
    "    counter+=1\n",
    "\n",
    "    if counter>2:                   # Skip header lines\n",
    "        #print(myline,end='')\n",
    "        mywords=myline.split('\\t')  #tab spearator\n",
    "        # First keep record of tallest\n",
    "        height=float(mywords[3])\n",
    "        if height>maxheight:\n",
    "            maxheight=height\n",
    "            maxheightname=mywords[0]\n",
    "        \n",
    "        #second: keep a record of greatest diameter\n",
    "        width=float(mywords[2])\n",
    "        if width>maxwidth:\n",
    "            maxwidth=width\n",
    "            maxwidthname=mywords[0] \n",
    "        \n",
    "f.close()\n",
    "\n",
    "\n",
    "# Report tallest\n",
    "print('Tallest:',maxheightname,maxheight)\n",
    "# Report greatest diameter\n",
    "print('Widest:',maxwidthname,maxwidth)"
   ]
  },
  {
   "cell_type": "markdown",
   "metadata": {},
   "source": [
    "# Trying working forward in line, just for kicks. Previous code is good already\n",
    "\n",
    "Test for string words\n",
    "\n",
    "\n",
    "This is NOT a good version compared with above!!!"
   ]
  },
  {
   "cell_type": "code",
   "execution_count": null,
   "metadata": {},
   "outputs": [],
   "source": [
    "# Write your tree program here\n",
    "f = open('redwood-data.txt', 'r')\n",
    "counter=0\n",
    "maxheight=-1.0\n",
    "maxwidth=-1.0\n",
    "for myline in f:\n",
    "    counter+=1\n",
    "    \n",
    "    #Working on a small bit of the file to start with\n",
    "    if counter>2: \n",
    "        #print(myline,end='')\n",
    "        mywords=myline.split('\\t')\n",
    "        \n",
    "        numbercounter=0\n",
    "        for myword in mywords:\n",
    "            if myword.replace('.','').isnumeric():\n",
    "                \n",
    "                # First keep record of tallest\n",
    "                \n",
    "                if numbercounter==1:\n",
    "                    height=float(myword)\n",
    "                    if height>maxheight:\n",
    "                        maxheight=height\n",
    "                        maxheightline=myline\n",
    "        \n",
    "                #second: keep a record of greatest diameter\n",
    "                if numbercounter==0:\n",
    "                    width=float(myword)\n",
    "                    if width>maxwidth:\n",
    "                        maxwidth=width\n",
    "                        maxwidthline=myline \n",
    "                \n",
    "                numbercounter+=1\n",
    "            \n",
    "        \n",
    "f.close()\n",
    "\n",
    "\n",
    "# Report tallest\n",
    "print('Tallest:',maxheightline)\n",
    "# Report greatest diameter\n",
    "print('Widest:',maxwidthline)"
   ]
  },
  {
   "cell_type": "markdown",
   "metadata": {},
   "source": [
    "# Special competion\n",
    "\n",
    "### Write the prettiest version of this program that you can - use any methods you like as long as it is python\n"
   ]
  },
  {
   "cell_type": "code",
   "execution_count": 40,
   "metadata": {},
   "outputs": [
    {
     "name": "stdout",
     "output_type": "stream",
     "text": [
      "           name     mass   radius  density        g    v_esc        a    Tsurf      Teq\n",
      "                    (EU)     (EU)     (EU)     (EU)     (EU)     (AU)      (K)      (K)\n",
      "--------------------------------------------------------------------------------------\n",
      "          Earth        1        1        1        1        1        1      288      254\n",
      "           Mars    0.107     0.53     0.71     0.38     0.45     1.52      227      210\n",
      "        Mercury   0.0553     0.38     0.98     0.38     0.38     0.39      440      434\n",
      "           Moon   0.0123     0.27      0.6     0.17     0.21        1      220      255\n",
      "          Venus    0.815     0.95     0.95      0.9     0.93     0.72      730      232\n",
      "             Io    0.015     0.29     0.64     0.18     0.23      5.2      130      112\n",
      "        Jupiter      318    10.97     0.24     2.64     5.38      5.2      152      110\n",
      "          Titan   0.0225      0.4     0.34     0.14     0.24     9.54       94       83\n",
      "       GJ 581 g      3.1     1.36     1.22     1.67     1.51     0.15      278      248\n",
      "       GJ 581 b     15.6     3.14     0.51     1.59     2.23     0.04      499      469\n",
      "     HD 96167 b  216.126     9.36     0.26     2.47     4.81      1.3      334      304\n",
      "      WASP-26 b  324.188    14.81      0.1     1.48     4.68     0.04     1321     1291\n"
     ]
    }
   ],
   "source": [
    "f = open('ex2-6-g-esi-data.txt', 'r')\n",
    "counter=0\n",
    "for myline in f:\n",
    "    print(myline,end='')\n",
    "    counter+=1\n",
    "f.close()\n"
   ]
  },
  {
   "cell_type": "code",
   "execution_count": 39,
   "metadata": {},
   "outputs": [
    {
     "name": "stdout",
     "output_type": "stream",
     "text": [
      "B E D A F J G H I C\n",
      "E I J D B A H C G F\n",
      "F D A B H E J C I G\n",
      "I B H D E G F C J A\n",
      "B H J F E A I G D C\n",
      "H C F J I D B E A G\n",
      "I F B G H D C A E J\n",
      "G D F A J C H I E B\n",
      "E G C I H F B J A D\n",
      "I A G J H D E B C F\n"
     ]
    }
   ],
   "source": [
    "f = open('grid.txt', 'r')\n",
    "counter=0\n",
    "for myline in f:\n",
    "    print(myline,end='')\n",
    "    counter+=1\n",
    "f.close()"
   ]
  },
  {
   "cell_type": "code",
   "execution_count": null,
   "metadata": {},
   "outputs": [],
   "source": []
  }
 ],
 "metadata": {
  "kernelspec": {
   "display_name": "Python 3",
   "language": "python",
   "name": "python3"
  },
  "language_info": {
   "codemirror_mode": {
    "name": "ipython",
    "version": 3
   },
   "file_extension": ".py",
   "mimetype": "text/x-python",
   "name": "python",
   "nbconvert_exporter": "python",
   "pygments_lexer": "ipython3",
   "version": "3.8.6"
  }
 },
 "nbformat": 4,
 "nbformat_minor": 1
}
